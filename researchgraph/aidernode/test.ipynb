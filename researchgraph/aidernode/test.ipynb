{
 "cells": [
  {
   "cell_type": "markdown",
   "metadata": {},
   "source": [
    "### Minimal Implementation to run [AIDER](https://github.com/Aider-AI/aider)"
   ]
  },
  {
   "cell_type": "code",
   "execution_count": 19,
   "metadata": {},
   "outputs": [],
   "source": [
    "from aider.coders import Coder\n",
    "from aider.io import InputOutput\n",
    "from aider.models import Model\n",
    "import os.path as osp\n",
    "import os\n",
    "\n",
    "os.environ['OPENAI_API_KEY'] = os.environ['OPENAI_API_KEY_AUTORES']"
   ]
  },
  {
   "cell_type": "code",
   "execution_count": 10,
   "metadata": {},
   "outputs": [],
   "source": [
    "# Model that moves Aider\n",
    "main_model =  Model(\"gpt-4o\")\n",
    "\n",
    "# Files that Aider can read/write\n",
    "folder_name = \"./aider_work_dir\"\n",
    "exp_file = osp.join(folder_name, \"experiment.py\")\n",
    "vis_file = osp.join(folder_name, \"plot.py\")\n",
    "notes = osp.join(folder_name, \"notes.txt\")\n",
    "fnames = fnames = [exp_file, vis_file, notes]\n",
    "io = InputOutput(\n",
    "            yes=True, chat_history_file=f\"{folder_name}/_aider.txt\"\n",
    "        )\n",
    "\n",
    "coder = Coder.create(\n",
    "        main_model=main_model,\n",
    "        fnames=fnames,\n",
    "        io=io,\n",
    "        stream=False,\n",
    "        use_git=False,\n",
    "        edit_format=\"diff\",\n",
    "    )"
   ]
  },
  {
   "cell_type": "code",
   "execution_count": 20,
   "metadata": {},
   "outputs": [],
   "source": [
    "coder_prompt = \"\"\"Your goal is to implement the following idea: {title}.\n",
    "The proposed experiment is as follows: {idea}.\n",
    "You are given a total of up to {max_runs} runs to complete the necessary experiments. You do not need to use all {max_runs}.\n",
    "\n",
    "First, plan the list of experiments you would like to run. For example, if you are sweeping over a specific hyperparameter, plan each value you would like to test for each run.\n",
    "\n",
    "Note that we already provide the vanilla baseline results, so you do not need to re-run it.\n",
    "\n",
    "After you complete each change, we will run the command `python experiment.py --out_dir=run_i' where i is the run number and evaluate the results.\n",
    "YOUR PROPOSED CHANGE MUST USE THIS COMMAND FORMAT, DO NOT ADD ADDITIONAL COMMAND LINE ARGS.\n",
    "You can then implement the next thing on your list.\"\"\"\n",
    "\n",
    "next_prompt = coder_prompt.format(\n",
    "        title=\"Diffusion\",\n",
    "        idea=\"run it with more cool triks\",\n",
    "        max_runs=4,\n",
    "    )"
   ]
  },
  {
   "cell_type": "code",
   "execution_count": 21,
   "metadata": {},
   "outputs": [
    {
     "data": {
      "text/html": [
       "<pre style=\"white-space:pre;overflow-x:auto;line-height:normal;font-family:Menlo,'DejaVu Sans Mono',consolas,'Courier New',monospace\"><span style=\"color: #000080; text-decoration-color: #000080\">To implement the idea of running the experiment with more \"cool tricks,\" we can plan a series of experiments that </span> \n",
       "<span style=\"color: #000080; text-decoration-color: #000080\">explore different hyperparameters or techniques that might improve the diffusion model's performance. Here is a </span>   \n",
       "<span style=\"color: #000080; text-decoration-color: #000080\">proposed list of experiments:</span>                                                                                      \n",
       "\n",
       "<span style=\"color: #808000; text-decoration-color: #808000; font-weight: bold\"> 1 </span><span style=\"color: #000080; text-decoration-color: #000080; font-weight: bold\">Experiment 1 (run_1):</span><span style=\"color: #000080; text-decoration-color: #000080\"> Increase the number of timesteps in the noise scheduler to see if a finer granularity     </span>\n",
       "<span style=\"color: #808000; text-decoration-color: #808000; font-weight: bold\">   </span><span style=\"color: #000080; text-decoration-color: #000080\">improves the model's performance.                                                                               </span>\n",
       "<span style=\"color: #808000; text-decoration-color: #808000; font-weight: bold\"> 2 </span><span style=\"color: #000080; text-decoration-color: #000080; font-weight: bold\">Experiment 2 (run_2):</span><span style=\"color: #000080; text-decoration-color: #000080\"> Use a different beta schedule, such as \"quadratic,\" to see if it affects the model's      </span>\n",
       "<span style=\"color: #808000; text-decoration-color: #808000; font-weight: bold\">   </span><span style=\"color: #000080; text-decoration-color: #000080\">learning dynamics.                                                                                              </span>\n",
       "<span style=\"color: #808000; text-decoration-color: #808000; font-weight: bold\"> 3 </span><span style=\"color: #000080; text-decoration-color: #000080; font-weight: bold\">Experiment 3 (run_3):</span><span style=\"color: #000080; text-decoration-color: #000080\"> Increase the hidden layers in the MLPDenoiser to see if a deeper network improves the     </span>\n",
       "<span style=\"color: #808000; text-decoration-color: #808000; font-weight: bold\">   </span><span style=\"color: #000080; text-decoration-color: #000080\">model's capacity to learn complex patterns.                                                                     </span>\n",
       "<span style=\"color: #808000; text-decoration-color: #808000; font-weight: bold\"> 4 </span><span style=\"color: #000080; text-decoration-color: #000080; font-weight: bold\">Experiment 4 (run_4):</span><span style=\"color: #000080; text-decoration-color: #000080\"> Implement a learning rate scheduler with a different strategy, such as a step decay, to   </span>\n",
       "<span style=\"color: #808000; text-decoration-color: #808000; font-weight: bold\">   </span><span style=\"color: #000080; text-decoration-color: #000080\">see if it helps in better convergence.                                                                          </span>\n",
       "\n",
       "<span style=\"color: #000080; text-decoration-color: #000080\">Let's start with </span><span style=\"color: #000080; text-decoration-color: #000080; font-weight: bold\">Experiment 1</span><span style=\"color: #000080; text-decoration-color: #000080\"> by increasing the number of timesteps in the noise scheduler. Here are the changes </span>  \n",
       "<span style=\"color: #000080; text-decoration-color: #000080\">needed:</span>                                                                                                            \n",
       "\n",
       "<span style=\"color: #000080; text-decoration-color: #000080\">experiment.py</span>                                                                                                      \n",
       "\n",
       "<span style=\"background-color: #f8f8f8\">                                                                                                                   </span>\n",
       "<span style=\"background-color: #f8f8f8\"> </span><span style=\"color: #666666; text-decoration-color: #666666; background-color: #f8f8f8\">&lt;&lt;&lt;&lt;&lt;&lt;&lt;</span><span style=\"color: #000000; text-decoration-color: #000000; background-color: #f8f8f8\"> SEARCH</span><span style=\"background-color: #f8f8f8\">                                                                                                    </span>\n",
       "<span style=\"background-color: #f8f8f8\"> </span><span style=\"color: #000000; text-decoration-color: #000000; background-color: #f8f8f8\">    parser</span><span style=\"color: #666666; text-decoration-color: #666666; background-color: #f8f8f8\">.</span><span style=\"color: #000000; text-decoration-color: #000000; background-color: #f8f8f8\">add_argument(</span><span style=\"color: #ba2121; text-decoration-color: #ba2121; background-color: #f8f8f8\">\"--num_timesteps\"</span><span style=\"color: #000000; text-decoration-color: #000000; background-color: #f8f8f8\">, </span><span style=\"color: #008000; text-decoration-color: #008000; background-color: #f8f8f8\">type</span><span style=\"color: #666666; text-decoration-color: #666666; background-color: #f8f8f8\">=</span><span style=\"color: #008000; text-decoration-color: #008000; background-color: #f8f8f8\">int</span><span style=\"color: #000000; text-decoration-color: #000000; background-color: #f8f8f8\">, default</span><span style=\"color: #666666; text-decoration-color: #666666; background-color: #f8f8f8\">=100</span><span style=\"color: #000000; text-decoration-color: #000000; background-color: #f8f8f8\">)</span><span style=\"background-color: #f8f8f8\">                                                 </span>\n",
       "<span style=\"background-color: #f8f8f8\"> </span><span style=\"color: #666666; text-decoration-color: #666666; background-color: #f8f8f8\">=======</span><span style=\"background-color: #f8f8f8\">                                                                                                           </span>\n",
       "<span style=\"background-color: #f8f8f8\"> </span><span style=\"color: #000000; text-decoration-color: #000000; background-color: #f8f8f8\">    parser</span><span style=\"color: #666666; text-decoration-color: #666666; background-color: #f8f8f8\">.</span><span style=\"color: #000000; text-decoration-color: #000000; background-color: #f8f8f8\">add_argument(</span><span style=\"color: #ba2121; text-decoration-color: #ba2121; background-color: #f8f8f8\">\"--num_timesteps\"</span><span style=\"color: #000000; text-decoration-color: #000000; background-color: #f8f8f8\">, </span><span style=\"color: #008000; text-decoration-color: #008000; background-color: #f8f8f8\">type</span><span style=\"color: #666666; text-decoration-color: #666666; background-color: #f8f8f8\">=</span><span style=\"color: #008000; text-decoration-color: #008000; background-color: #f8f8f8\">int</span><span style=\"color: #000000; text-decoration-color: #000000; background-color: #f8f8f8\">, default</span><span style=\"color: #666666; text-decoration-color: #666666; background-color: #f8f8f8\">=200</span><span style=\"color: #000000; text-decoration-color: #000000; background-color: #f8f8f8\">)</span><span style=\"background-color: #f8f8f8\">                                                 </span>\n",
       "<span style=\"background-color: #f8f8f8\"> </span><span style=\"color: #666666; text-decoration-color: #666666; background-color: #f8f8f8\">&gt;&gt;&gt;&gt;&gt;&gt;&gt;</span><span style=\"color: #000000; text-decoration-color: #000000; background-color: #f8f8f8\"> REPLACE</span><span style=\"background-color: #f8f8f8\">                                                                                                   </span>\n",
       "<span style=\"background-color: #f8f8f8\">                                                                                                                   </span>\n",
       "\n",
       "<span style=\"color: #000080; text-decoration-color: #000080\">You can now run the first experiment with the following command:</span>                                                   \n",
       "\n",
       "<span style=\"background-color: #f8f8f8\">                                                                                                                   </span>\n",
       "<span style=\"background-color: #f8f8f8\"> </span><span style=\"color: #000000; text-decoration-color: #000000; background-color: #f8f8f8\">python</span><span style=\"color: #bbbbbb; text-decoration-color: #bbbbbb; background-color: #f8f8f8\"> </span><span style=\"color: #000000; text-decoration-color: #000000; background-color: #f8f8f8\">experiment.py</span><span style=\"color: #bbbbbb; text-decoration-color: #bbbbbb; background-color: #f8f8f8\"> </span><span style=\"color: #000000; text-decoration-color: #000000; background-color: #f8f8f8\">--out_dir</span><span style=\"color: #666666; text-decoration-color: #666666; background-color: #f8f8f8\">=</span><span style=\"color: #000000; text-decoration-color: #000000; background-color: #f8f8f8\">run_1</span><span style=\"background-color: #f8f8f8\">                                                                              </span>\n",
       "<span style=\"background-color: #f8f8f8\">                                                                                                                   </span>\n",
       "\n",
       "<span style=\"color: #000080; text-decoration-color: #000080\">Once you have evaluated the results, let me know, and we can proceed with the next experiment.</span>                     \n",
       "</pre>\n"
      ],
      "text/plain": [
       "\u001b[34mTo implement the idea of running the experiment with more \"cool tricks,\" we can plan a series of experiments that \u001b[0m \n",
       "\u001b[34mexplore different hyperparameters or techniques that might improve the diffusion model's performance. Here is a \u001b[0m   \n",
       "\u001b[34mproposed list of experiments:\u001b[0m                                                                                      \n",
       "\n",
       "\u001b[1;33m 1 \u001b[0m\u001b[1;34mExperiment 1 (run_1):\u001b[0m\u001b[34m Increase the number of timesteps in the noise scheduler to see if a finer granularity \u001b[0m\u001b[34m    \u001b[0m\n",
       "\u001b[1;33m   \u001b[0m\u001b[34mimproves the model's performance.\u001b[0m\u001b[34m                                                                               \u001b[0m\n",
       "\u001b[1;33m 2 \u001b[0m\u001b[1;34mExperiment 2 (run_2):\u001b[0m\u001b[34m Use a different beta schedule, such as \"quadratic,\" to see if it affects the model's \u001b[0m\u001b[34m     \u001b[0m\n",
       "\u001b[1;33m   \u001b[0m\u001b[34mlearning dynamics.\u001b[0m\u001b[34m                                                                                              \u001b[0m\n",
       "\u001b[1;33m 3 \u001b[0m\u001b[1;34mExperiment 3 (run_3):\u001b[0m\u001b[34m Increase the hidden layers in the MLPDenoiser to see if a deeper network improves the \u001b[0m\u001b[34m    \u001b[0m\n",
       "\u001b[1;33m   \u001b[0m\u001b[34mmodel's capacity to learn complex patterns.\u001b[0m\u001b[34m                                                                     \u001b[0m\n",
       "\u001b[1;33m 4 \u001b[0m\u001b[1;34mExperiment 4 (run_4):\u001b[0m\u001b[34m Implement a learning rate scheduler with a different strategy, such as a step decay, to \u001b[0m\u001b[34m  \u001b[0m\n",
       "\u001b[1;33m   \u001b[0m\u001b[34msee if it helps in better convergence.\u001b[0m\u001b[34m                                                                          \u001b[0m\n",
       "\n",
       "\u001b[34mLet's start with \u001b[0m\u001b[1;34mExperiment 1\u001b[0m\u001b[34m by increasing the number of timesteps in the noise scheduler. Here are the changes \u001b[0m  \n",
       "\u001b[34mneeded:\u001b[0m                                                                                                            \n",
       "\n",
       "\u001b[34mexperiment.py\u001b[0m                                                                                                      \n",
       "\n",
       "\u001b[48;2;248;248;248m                                                                                                                   \u001b[0m\n",
       "\u001b[48;2;248;248;248m \u001b[0m\u001b[38;2;102;102;102;48;2;248;248;248m<<\u001b[0m\u001b[38;2;102;102;102;48;2;248;248;248m<<\u001b[0m\u001b[38;2;102;102;102;48;2;248;248;248m<<\u001b[0m\u001b[38;2;102;102;102;48;2;248;248;248m<\u001b[0m\u001b[38;2;0;0;0;48;2;248;248;248m \u001b[0m\u001b[38;2;0;0;0;48;2;248;248;248mSEARCH\u001b[0m\u001b[48;2;248;248;248m                                                                                                   \u001b[0m\u001b[48;2;248;248;248m \u001b[0m\n",
       "\u001b[48;2;248;248;248m \u001b[0m\u001b[38;2;0;0;0;48;2;248;248;248m    \u001b[0m\u001b[38;2;0;0;0;48;2;248;248;248mparser\u001b[0m\u001b[38;2;102;102;102;48;2;248;248;248m.\u001b[0m\u001b[38;2;0;0;0;48;2;248;248;248madd_argument\u001b[0m\u001b[38;2;0;0;0;48;2;248;248;248m(\u001b[0m\u001b[38;2;186;33;33;48;2;248;248;248m\"\u001b[0m\u001b[38;2;186;33;33;48;2;248;248;248m--num_timesteps\u001b[0m\u001b[38;2;186;33;33;48;2;248;248;248m\"\u001b[0m\u001b[38;2;0;0;0;48;2;248;248;248m,\u001b[0m\u001b[38;2;0;0;0;48;2;248;248;248m \u001b[0m\u001b[38;2;0;128;0;48;2;248;248;248mtype\u001b[0m\u001b[38;2;102;102;102;48;2;248;248;248m=\u001b[0m\u001b[38;2;0;128;0;48;2;248;248;248mint\u001b[0m\u001b[38;2;0;0;0;48;2;248;248;248m,\u001b[0m\u001b[38;2;0;0;0;48;2;248;248;248m \u001b[0m\u001b[38;2;0;0;0;48;2;248;248;248mdefault\u001b[0m\u001b[38;2;102;102;102;48;2;248;248;248m=\u001b[0m\u001b[38;2;102;102;102;48;2;248;248;248m100\u001b[0m\u001b[38;2;0;0;0;48;2;248;248;248m)\u001b[0m\u001b[48;2;248;248;248m                                                \u001b[0m\u001b[48;2;248;248;248m \u001b[0m\n",
       "\u001b[48;2;248;248;248m \u001b[0m\u001b[38;2;102;102;102;48;2;248;248;248m==\u001b[0m\u001b[38;2;102;102;102;48;2;248;248;248m==\u001b[0m\u001b[38;2;102;102;102;48;2;248;248;248m==\u001b[0m\u001b[38;2;102;102;102;48;2;248;248;248m=\u001b[0m\u001b[48;2;248;248;248m                                                                                                          \u001b[0m\u001b[48;2;248;248;248m \u001b[0m\n",
       "\u001b[48;2;248;248;248m \u001b[0m\u001b[38;2;0;0;0;48;2;248;248;248m    \u001b[0m\u001b[38;2;0;0;0;48;2;248;248;248mparser\u001b[0m\u001b[38;2;102;102;102;48;2;248;248;248m.\u001b[0m\u001b[38;2;0;0;0;48;2;248;248;248madd_argument\u001b[0m\u001b[38;2;0;0;0;48;2;248;248;248m(\u001b[0m\u001b[38;2;186;33;33;48;2;248;248;248m\"\u001b[0m\u001b[38;2;186;33;33;48;2;248;248;248m--num_timesteps\u001b[0m\u001b[38;2;186;33;33;48;2;248;248;248m\"\u001b[0m\u001b[38;2;0;0;0;48;2;248;248;248m,\u001b[0m\u001b[38;2;0;0;0;48;2;248;248;248m \u001b[0m\u001b[38;2;0;128;0;48;2;248;248;248mtype\u001b[0m\u001b[38;2;102;102;102;48;2;248;248;248m=\u001b[0m\u001b[38;2;0;128;0;48;2;248;248;248mint\u001b[0m\u001b[38;2;0;0;0;48;2;248;248;248m,\u001b[0m\u001b[38;2;0;0;0;48;2;248;248;248m \u001b[0m\u001b[38;2;0;0;0;48;2;248;248;248mdefault\u001b[0m\u001b[38;2;102;102;102;48;2;248;248;248m=\u001b[0m\u001b[38;2;102;102;102;48;2;248;248;248m200\u001b[0m\u001b[38;2;0;0;0;48;2;248;248;248m)\u001b[0m\u001b[48;2;248;248;248m                                                \u001b[0m\u001b[48;2;248;248;248m \u001b[0m\n",
       "\u001b[48;2;248;248;248m \u001b[0m\u001b[38;2;102;102;102;48;2;248;248;248m>>\u001b[0m\u001b[38;2;102;102;102;48;2;248;248;248m>>\u001b[0m\u001b[38;2;102;102;102;48;2;248;248;248m>>\u001b[0m\u001b[38;2;102;102;102;48;2;248;248;248m>\u001b[0m\u001b[38;2;0;0;0;48;2;248;248;248m \u001b[0m\u001b[38;2;0;0;0;48;2;248;248;248mREPLACE\u001b[0m\u001b[48;2;248;248;248m                                                                                                  \u001b[0m\u001b[48;2;248;248;248m \u001b[0m\n",
       "\u001b[48;2;248;248;248m                                                                                                                   \u001b[0m\n",
       "\n",
       "\u001b[34mYou can now run the first experiment with the following command:\u001b[0m                                                   \n",
       "\n",
       "\u001b[48;2;248;248;248m                                                                                                                   \u001b[0m\n",
       "\u001b[48;2;248;248;248m \u001b[0m\u001b[38;2;0;0;0;48;2;248;248;248mpython\u001b[0m\u001b[38;2;187;187;187;48;2;248;248;248m \u001b[0m\u001b[38;2;0;0;0;48;2;248;248;248mexperiment.py\u001b[0m\u001b[38;2;187;187;187;48;2;248;248;248m \u001b[0m\u001b[38;2;0;0;0;48;2;248;248;248m--out_dir\u001b[0m\u001b[38;2;102;102;102;48;2;248;248;248m=\u001b[0m\u001b[38;2;0;0;0;48;2;248;248;248mrun_1\u001b[0m\u001b[48;2;248;248;248m                                                                             \u001b[0m\u001b[48;2;248;248;248m \u001b[0m\n",
       "\u001b[48;2;248;248;248m                                                                                                                   \u001b[0m\n",
       "\n",
       "\u001b[34mOnce you have evaluated the results, let me know, and we can proceed with the next experiment.\u001b[0m                     \n"
      ]
     },
     "metadata": {},
     "output_type": "display_data"
    },
    {
     "data": {
      "text/html": [
       "<pre style=\"white-space:pre;overflow-x:auto;line-height:normal;font-family:Menlo,'DejaVu Sans Mono',consolas,'Courier New',monospace\">\n",
       "</pre>\n"
      ],
      "text/plain": [
       "\n"
      ]
     },
     "metadata": {},
     "output_type": "display_data"
    },
    {
     "data": {
      "text/html": [
       "<pre style=\"white-space:pre;overflow-x:auto;line-height:normal;font-family:Menlo,'DejaVu Sans Mono',consolas,'Courier New',monospace\">Tokens: 12k sent, 313 received. Cost: $0.06 message, $0.06 session.\n",
       "</pre>\n"
      ],
      "text/plain": [
       "Tokens: 12k sent, 313 received. Cost: $0.06 message, $0.06 session.\n"
      ]
     },
     "metadata": {},
     "output_type": "display_data"
    },
    {
     "data": {
      "text/html": [
       "<pre style=\"white-space:pre;overflow-x:auto;line-height:normal;font-family:Menlo,'DejaVu Sans Mono',consolas,'Courier New',monospace\">Applied edit to experiment.py\n",
       "</pre>\n"
      ],
      "text/plain": [
       "Applied edit to experiment.py\n"
      ]
     },
     "metadata": {},
     "output_type": "display_data"
    },
    {
     "data": {
      "text/html": [
       "<pre style=\"white-space:pre;overflow-x:auto;line-height:normal;font-family:Menlo,'DejaVu Sans Mono',consolas,'Courier New',monospace\">\n",
       "</pre>\n"
      ],
      "text/plain": [
       "\n"
      ]
     },
     "metadata": {},
     "output_type": "display_data"
    },
    {
     "data": {
      "text/html": [
       "<pre style=\"white-space:pre;overflow-x:auto;line-height:normal;font-family:Menlo,'DejaVu Sans Mono',consolas,'Courier New',monospace\">python experiment.py --out_dir=run_1\n",
       "</pre>\n"
      ],
      "text/plain": [
       "\u001b[7mpython experiment.py --out_dir=run_1\u001b[0m\n"
      ]
     },
     "metadata": {},
     "output_type": "display_data"
    }
   ],
   "source": [
    "coder_out = coder.run(next_prompt)"
   ]
  }
 ],
 "metadata": {
  "kernelspec": {
   "display_name": "llm",
   "language": "python",
   "name": "python3"
  },
  "language_info": {
   "codemirror_mode": {
    "name": "ipython",
    "version": 3
   },
   "file_extension": ".py",
   "mimetype": "text/x-python",
   "name": "python",
   "nbconvert_exporter": "python",
   "pygments_lexer": "ipython3",
   "version": "3.12.0"
  }
 },
 "nbformat": 4,
 "nbformat_minor": 2
}
