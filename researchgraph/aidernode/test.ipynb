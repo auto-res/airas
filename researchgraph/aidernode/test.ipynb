{
 "cells": [
  {
   "cell_type": "code",
   "execution_count": 2,
   "metadata": {},
   "outputs": [],
   "source": [
    "from aider.coders import Coder\n",
    "from aider.io import InputOutput\n",
    "from aider.models import Model\n",
    "import os.path as osp"
   ]
  },
  {
   "cell_type": "code",
   "execution_count": null,
   "metadata": {},
   "outputs": [],
   "source": [
    "# Model that moves Aider\n",
    "main_model =  Model(\"gpt-4o\")\n",
    "\n",
    "# Files that Aider can read/write\n",
    "exp_file = osp.join(folder_name, \"experiment.py\")\n",
    "vis_file = osp.join(folder_name, \"plot.py\")\n",
    "notes = osp.join(folder_name, \"notes.txt\")\n",
    "fnames = fnames = [exp_file, vis_file, notes]\n",
    "\n",
    "coder = Coder.create(\n",
    "        main_model=main_model,\n",
    "        fnames=fnames,\n",
    "        io=io,\n",
    "        stream=False,\n",
    "        use_git=False,\n",
    "        edit_format=\"diff\",\n",
    "    )\n"
   ]
  }
 ],
 "metadata": {
  "kernelspec": {
   "display_name": "llm",
   "language": "python",
   "name": "python3"
  },
  "language_info": {
   "codemirror_mode": {
    "name": "ipython",
    "version": 3
   },
   "file_extension": ".py",
   "mimetype": "text/x-python",
   "name": "python",
   "nbconvert_exporter": "python",
   "pygments_lexer": "ipython3",
   "version": "3.12.0"
  }
 },
 "nbformat": 4,
 "nbformat_minor": 2
}
