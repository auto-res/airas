{
 "cells": [
  {
   "cell_type": "code",
   "execution_count": 2,
   "metadata": {},
   "outputs": [],
   "source": [
    "from aider.coders import Coder\n",
    "from aider.io import InputOutput\n",
    "from aider.models import Model\n",
    "import os.path as osp"
   ]
  },
  {
   "cell_type": "code",
   "execution_count": 9,
   "metadata": {},
   "outputs": [],
   "source": [
    "# Model that moves Aider\n",
    "main_model =  Model(\"gpt-4o\")\n",
    "\n",
    "# Files that Aider can read/write\n",
    "folder_name = \"./example\"\n",
    "exp_file = osp.join(folder_name, \"experiment.py\")\n",
    "vis_file = osp.join(folder_name, \"plot.py\")\n",
    "notes = osp.join(folder_name, \"notes.txt\")\n",
    "fnames = fnames = [exp_file, vis_file, notes]\n",
    "io = InputOutput(\n",
    "            yes=True, chat_history_file=f\"{folder_name}/_aider.txt\"\n",
    "        )\n",
    "\n",
    "coder = Coder.create(\n",
    "        main_model=main_model,\n",
    "        fnames=fnames,\n",
    "        io=io,\n",
    "        stream=False,\n",
    "        use_git=False,\n",
    "        edit_format=\"diff\",\n",
    "    )"
   ]
  },
  {
   "cell_type": "code",
   "execution_count": null,
   "metadata": {},
   "outputs": [],
   "source": [
    "coder_prompt = \"\"\"Your goal is to implement the following idea: {title}.\n",
    "The proposed experiment is as follows: {idea}.\n",
    "You are given a total of up to {max_runs} runs to complete the necessary experiments. You do not need to use all {max_runs}.\n",
    "\n",
    "First, plan the list of experiments you would like to run. For example, if you are sweeping over a specific hyperparameter, plan each value you would like to test for each run.\n",
    "\n",
    "Note that we already provide the vanilla baseline results, so you do not need to re-run it.\n",
    "\n",
    "After you complete each change, we will run the command `python experiment.py --out_dir=run_i' where i is the run number and evaluate the results.\n",
    "YOUR PROPOSED CHANGE MUST USE THIS COMMAND FORMAT, DO NOT ADD ADDITIONAL COMMAND LINE ARGS.\n",
    "You can then implement the next thing on your list.\"\"\"\n",
    "\n",
    "next_prompt = coder_prompt.format(\n",
    "        title=\"Title\",\n",
    "        idea=\"Experiment\",\n",
    "        max_runs=4,\n",
    "    )"
   ]
  },
  {
   "cell_type": "code",
   "execution_count": null,
   "metadata": {},
   "outputs": [],
   "source": [
    "coder_out = coder.run(next_prompt)"
   ]
  }
 ],
 "metadata": {
  "kernelspec": {
   "display_name": "llm",
   "language": "python",
   "name": "python3"
  },
  "language_info": {
   "codemirror_mode": {
    "name": "ipython",
    "version": 3
   },
   "file_extension": ".py",
   "mimetype": "text/x-python",
   "name": "python",
   "nbconvert_exporter": "python",
   "pygments_lexer": "ipython3",
   "version": "3.12.0"
  }
 },
 "nbformat": 4,
 "nbformat_minor": 2
}
