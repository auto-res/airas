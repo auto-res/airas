{
  "nbformat": 4,
  "nbformat_minor": 0,
  "metadata": {
    "colab": {
      "provenance": [],
      "authorship_tag": "ABX9TyOnMvzmETgAuK2wO++b3kQm",
      "include_colab_link": true
    },
    "kernelspec": {
      "name": "python3",
      "display_name": "Python 3"
    },
    "language_info": {
      "name": "python"
    }
  },
  "cells": [
    {
      "cell_type": "markdown",
      "metadata": {
        "id": "view-in-github",
        "colab_type": "text"
      },
      "source": [
        "<a href=\"https://colab.research.google.com/github/auto-res/researchgraph/blob/feat%2Fadd-notebook/notebook/research_graph.ipynb\" target=\"_parent\"><img src=\"https://colab.research.google.com/assets/colab-badge.svg\" alt=\"Open In Colab\"/></a>"
      ]
    },
    {
      "cell_type": "markdown",
      "source": [
        "# Research Graph\n",
        "- https://github.com/auto-res/researchgraph"
      ],
      "metadata": {
        "id": "SxgAaE-nM19j"
      }
    },
    {
      "cell_type": "code",
      "source": [
        "import os\n",
        "from google.colab import userdata\n",
        "\n",
        "# Please register the secret with the name below in google colab.\n",
        "\n",
        "# https://platform.openai.com/settings/organization/api-keys\n",
        "os.environ[\"OPENAI_API_KEY\"] = userdata.get(\"OPENAI_API_KEY\")\n",
        "# https://app.devin.ai/settings/api-keys\n",
        "os.environ[\"DEVIN_API_KEY\"] = userdata.get(\"DEVIN_API_KEY\")\n",
        "# https://www.firecrawl.dev/app/api-keys\n",
        "os.environ[\"FIRE_CRAWL_API_KEY\"] = userdata.get(\"FIRE_CRAWL_API_KEY\")\n",
        "# https://docs.github.com/ja/authentication/keeping-your-account-and-data-secure/managing-your-personal-access-tokens#fine-grained-personal-access-token-%E3%81%AE%E4%BD%9C%E6%88%90\n",
        "os.environ[\"GITHUB_PERSONAL_ACCESS_TOKEN\"] = userdata.get(\"GITHUB_PERSONAL_ACCESS_TOKEN\")"
      ],
      "metadata": {
        "id": "ylw_kTWvYjwv"
      },
      "execution_count": 1,
      "outputs": []
    },
    {
      "cell_type": "code",
      "execution_count": 2,
      "metadata": {
        "colab": {
          "base_uri": "https://localhost:8080/"
        },
        "id": "MIwcbxvOLg6k",
        "outputId": "a990010b-437b-40b2-b8b6-8e62e4234ec8"
      },
      "outputs": [
        {
          "output_type": "stream",
          "name": "stdout",
          "text": [
            "Cloning into 'researchgraph'...\n",
            "remote: Enumerating objects: 4492, done.\u001b[K\n",
            "remote: Counting objects: 100% (513/513), done.\u001b[K\n",
            "remote: Compressing objects: 100% (271/271), done.\u001b[K\n",
            "remote: Total 4492 (delta 284), reused 252 (delta 234), pack-reused 3979 (from 2)\u001b[K\n",
            "Receiving objects: 100% (4492/4492), 32.73 MiB | 28.62 MiB/s, done.\n",
            "Resolving deltas: 100% (2484/2484), done.\n"
          ]
        }
      ],
      "source": [
        "!git clone https://github.com/auto-res/researchgraph.git"
      ]
    },
    {
      "cell_type": "code",
      "source": [
        "%%capture\n",
        "%pip install uv\n",
        "%cd /content/researchgraph\n",
        "!uv pip compile pyproject.toml > requirements.txt\n",
        "%pip install -r requirements.txt"
      ],
      "metadata": {
        "collapsed": true,
        "id": "EvOT9qPTNJY9"
      },
      "execution_count": 3,
      "outputs": []
    },
    {
      "cell_type": "code",
      "source": [
        "import sys\n",
        "sys.path.append('/content/researchgraph/src')\n",
        "\n",
        "from researchgraph.research_graph import ResearchGraph"
      ],
      "metadata": {
        "id": "0zS4VQzJg6Co"
      },
      "execution_count": 4,
      "outputs": []
    },
    {
      "cell_type": "markdown",
      "source": [
        "### Research Graph settings"
      ],
      "metadata": {
        "id": "sGMSLhvMNLMy"
      }
    },
    {
      "cell_type": "code",
      "source": [
        "# Please set up a repository to store your research results.\n",
        "# The repository you set up must be one that can be controlled using a personal access token.\n",
        "repository = \"auto-res2/auto-research\"\n",
        "\n",
        "# Directory to save results\n",
        "save_dir = \"/content/researchgraph/data\"\n",
        "# web site to get the paper\n",
        "scrape_urls = [\n",
        "    \"https://icml.cc/virtual/2024/papers.html?filter=titles\",\n",
        "    \"https://iclr.cc/virtual/2024/papers.html?filter=titles\",\n",
        "]\n",
        "# Number of papers to obtain ideas to be incorporated into the base paper\n",
        "add_paper_num = 3\n",
        "# Maximum number of times the experimental code can be modified\n",
        "max_code_fix_iteration = 3\n",
        "\n",
        "research_graph = ResearchGraph(\n",
        "    save_dir=save_dir,\n",
        "    scrape_urls=scrape_urls,\n",
        "    add_paper_num=add_paper_num,\n",
        "    repository=repository,\n",
        "    max_code_fix_iteration=max_code_fix_iteration,\n",
        ").build_graph()"
      ],
      "metadata": {
        "id": "67WLzWzUZNtM"
      },
      "execution_count": 5,
      "outputs": []
    },
    {
      "cell_type": "code",
      "source": [
        "# Please set what kind of research you will be conducting.\n",
        "input_data = {\n",
        "    \"queries\": [\"diffusion model\"],\n",
        "}"
      ],
      "metadata": {
        "id": "lBy7LIIgMA_6"
      },
      "execution_count": 6,
      "outputs": []
    },
    {
      "cell_type": "markdown",
      "source": [
        "### Executing Research Graph"
      ],
      "metadata": {
        "id": "tAsRiEa4M9XB"
      }
    },
    {
      "cell_type": "code",
      "source": [
        "result = research_graph.invoke(\n",
        "    input = input_data,\n",
        "    config={\"recursion_limit\": 500}\n",
        ")"
      ],
      "metadata": {
        "id": "sgmkEr3YL2ow"
      },
      "execution_count": null,
      "outputs": []
    }
  ]
}