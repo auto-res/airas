{
  "cells": [
    {
      "cell_type": "markdown",
      "metadata": {
        "id": "1ofpNVyEQc34"
      },
      "source": [
        "# ResearChainを使った自動研究のデモ\n",
        "- https://miro.com/app/board/uXjVK44N9U8=/\n",
        "- 上記のアーキテクチャの一部を実装"
      ]
    },
    {
      "cell_type": "markdown",
      "metadata": {
        "colab_type": "text",
        "id": "view-in-github"
      },
      "source": [
        "<a href=\"https://colab.research.google.com/github/auto-res/researchchain/blob/develop-tanaka/examples/researchchain_demo.ipynb\" target=\"_parent\"><img src=\"https://colab.research.google.com/assets/colab-badge.svg\" alt=\"Open In Colab\"/></a>"
      ]
    },
    {
      "cell_type": "code",
      "execution_count": 1,
      "metadata": {
        "colab": {
          "base_uri": "https://localhost:8080/"
        },
        "id": "7xxj7kjBQQJH",
        "outputId": "fc09c92d-57e4-45ff-8208-103e5b4e2dce"
      },
      "outputs": [
        {
          "name": "stdout",
          "output_type": "stream",
          "text": [
            "\u001b[2K     \u001b[90m━━━━━━━━━━━━━━━━━━━━━━━━━━━━━━━━━━━━━━━━\u001b[0m \u001b[32m50.4/50.4 kB\u001b[0m \u001b[31m1.1 MB/s\u001b[0m eta \u001b[36m0:00:00\u001b[0m\n",
            "\u001b[2K   \u001b[90m━━━━━━━━━━━━━━━━━━━━━━━━━━━━━━━━━━━━━━━━\u001b[0m \u001b[32m1.0/1.0 MB\u001b[0m \u001b[31m13.8 MB/s\u001b[0m eta \u001b[36m0:00:00\u001b[0m\n",
            "\u001b[2K   \u001b[90m━━━━━━━━━━━━━━━━━━━━━━━━━━━━━━━━━━━━━━━━\u001b[0m \u001b[32m2.3/2.3 MB\u001b[0m \u001b[31m19.3 MB/s\u001b[0m eta \u001b[36m0:00:00\u001b[0m\n",
            "\u001b[2K   \u001b[90m━━━━━━━━━━━━━━━━━━━━━━━━━━━━━━━━━━━━━━━━\u001b[0m \u001b[32m367.8/367.8 kB\u001b[0m \u001b[31m6.0 MB/s\u001b[0m eta \u001b[36m0:00:00\u001b[0m\n",
            "\u001b[2K   \u001b[90m━━━━━━━━━━━━━━━━━━━━━━━━━━━━━━━━━━━━━━━━\u001b[0m \u001b[32m295.8/295.8 kB\u001b[0m \u001b[31m11.7 MB/s\u001b[0m eta \u001b[36m0:00:00\u001b[0m\n",
            "\u001b[2K   \u001b[90m━━━━━━━━━━━━━━━━━━━━━━━━━━━━━━━━━━━━━━━━\u001b[0m \u001b[32m866.9/866.9 kB\u001b[0m \u001b[31m18.7 MB/s\u001b[0m eta \u001b[36m0:00:00\u001b[0m\n",
            "\u001b[2K   \u001b[90m━━━━━━━━━━━━━━━━━━━━━━━━━━━━━━━━━━━━━━━━\u001b[0m \u001b[32m76.4/76.4 kB\u001b[0m \u001b[31m4.1 MB/s\u001b[0m eta \u001b[36m0:00:00\u001b[0m\n",
            "\u001b[2K   \u001b[90m━━━━━━━━━━━━━━━━━━━━━━━━━━━━━━━━━━━━━━━━\u001b[0m \u001b[32m77.9/77.9 kB\u001b[0m \u001b[31m3.9 MB/s\u001b[0m eta \u001b[36m0:00:00\u001b[0m\n",
            "\u001b[2K   \u001b[90m━━━━━━━━━━━━━━━━━━━━━━━━━━━━━━━━━━━━━━━━\u001b[0m \u001b[32m318.9/318.9 kB\u001b[0m \u001b[31m15.9 MB/s\u001b[0m eta \u001b[36m0:00:00\u001b[0m\n",
            "\u001b[2K   \u001b[90m━━━━━━━━━━━━━━━━━━━━━━━━━━━━━━━━━━━━━━━━\u001b[0m \u001b[32m396.4/396.4 kB\u001b[0m \u001b[31m18.3 MB/s\u001b[0m eta \u001b[36m0:00:00\u001b[0m\n",
            "\u001b[2K   \u001b[90m━━━━━━━━━━━━━━━━━━━━━━━━━━━━━━━━━━━━━━━━\u001b[0m \u001b[32m290.4/290.4 kB\u001b[0m \u001b[31m11.5 MB/s\u001b[0m eta \u001b[36m0:00:00\u001b[0m\n",
            "\u001b[2K   \u001b[90m━━━━━━━━━━━━━━━━━━━━━━━━━━━━━━━━━━━━━━━━\u001b[0m \u001b[32m49.3/49.3 kB\u001b[0m \u001b[31m1.5 MB/s\u001b[0m eta \u001b[36m0:00:00\u001b[0m\n",
            "\u001b[2K   \u001b[90m━━━━━━━━━━━━━━━━━━━━━━━━━━━━━━━━━━━━━━━━\u001b[0m \u001b[32m141.9/141.9 kB\u001b[0m \u001b[31m8.1 MB/s\u001b[0m eta \u001b[36m0:00:00\u001b[0m\n",
            "\u001b[2K   \u001b[90m━━━━━━━━━━━━━━━━━━━━━━━━━━━━━━━━━━━━━━━━\u001b[0m \u001b[32m58.3/58.3 kB\u001b[0m \u001b[31m3.7 MB/s\u001b[0m eta \u001b[36m0:00:00\u001b[0m\n",
            "\u001b[?25h"
          ]
        }
      ],
      "source": [
        "%pip install --upgrade -q researchgraph"
      ]
    },
    {
      "cell_type": "code",
      "execution_count": null,
      "metadata": {
        "id": "JVv9EZDEQpLt"
      },
      "outputs": [],
      "source": [
        "from researchchain.llm_component.llm_component import LLMComponent\n",
        "from researchchain.retriever_component.semantic_scholar import SemanticScholarRetriever\n",
        "from researchchain.retriever_component.github import GithubRetriever\n",
        "\n",
        "import os\n",
        "import pprint\n",
        "from google.colab import userdata\n",
        "os.environ[\"OPENAI_API_KEY\"] = userdata.get('OPENAI_API_KEY')\n",
        "#os.environ[\"GOOGLE_API_KEY\"] = userdata.get('GOOGLE_API_KEY')\n",
        "#os.environ[\"ANTHROPIC_API_KEY\"] = userdata.get('ANTHROPIC_API_KEY')\n",
        "\n",
        "llm_name = \"gpt-4o-2024-08-06\"\n",
        "#llm_name = \"gpt-4o-2024-05-13\"\n",
        "#llm_name =  \"gpt-4o-mini-2024-07-18\"\n",
        "#llm_name = \"gpt-4-turbo-2024-04-09\"\n",
        "#llm_name = \"gpt-4-0125-preview\"\n",
        "#llm_name = \"gemini-1.0-pro\"\n",
        "#llm_name = \"gemini-1.5-pro\"\n",
        "#llm_name = \"gemini-1.5-flash\"\n",
        "#llm_name = \"claude-3-5-sonnet-20240620\"\n",
        "#llm_name = \"claude-3-opus-20240229\""
      ]
    },
    {
      "cell_type": "markdown",
      "metadata": {
        "id": "gAbF_cfqTjY4"
      },
      "source": [
        "# Memory"
      ]
    },
    {
      "cell_type": "code",
      "execution_count": null,
      "metadata": {
        "id": "sv4lKS2cTn0l"
      },
      "outputs": [],
      "source": [
        "memory = {\n",
        "    \"environment\" : \n",
        "    \"\"\"\n",
        "    The following two experimental environments are available\n",
        "    ・Fine tuning of the LLM and experiments with rewriting the Optimizer or loss function.\n",
        "    ・Verification of the accuracy of prompt engineering.\n",
        "    \"\"\",\n",
        "    \"objective\" : \n",
        "    \"\"\"\n",
        "    Batch Size Grokking: Assessing the impact of the training batchsize on the grokking phenomenon. Modify the experiments to dynamically adjust the batch size during training, starting with a small batch size and gradually increasing it. This could potentially lead to faster generalization on the validation set.\n",
        "    \"\"\"\n",
        "    ,\n",
        "}"
      ]
    },
    {
      "cell_type": "markdown",
      "metadata": {
        "id": "mi_gR2nSToCs"
      },
      "source": [
        "# 各Componentの処理"
      ]
    },
    {
      "cell_type": "markdown",
      "metadata": {
        "id": "4lX9NLmAQ7Xj"
      },
      "source": [
        "- Keyworder1"
      ]
    },
    {
      "cell_type": "code",
      "execution_count": null,
      "metadata": {
        "id": "z0HkHzQqQvXY"
      },
      "outputs": [],
      "source": [
        "# 設定\n",
        "json_data = {\n",
        "    \"input\" : [\n",
        "        [\"environment\",\"objective\"],\n",
        "        [\"environment\",\"objective\", \"keywords_mid_thought_1\"]\n",
        "    ],\n",
        "    \"output\" : [\n",
        "        [\"keywords_mid_thought_1\"],\n",
        "        [\"keywords_1\"]\n",
        "    ],\n",
        "    \"prompt\" : [\n",
        "         \"<RULE>You have to think of a 5 KEYWORDs regarding academic search.</RULE><RULE role=\\\"assistant\\\">There is a ojbective and limitation that we can handle, so you have to first interpret what the objective really means in keyword search.Answer should be surrounded with <keywords_mid_thought_1></keywords_mid_thought_1> tag.</RULE><objective>\\n{objective}\\n</objective><environment>\\n{environment}\\n</environment><EOS></EOS>\",\n",
        "         \"<RULE>You have to think of a 5 KEYWORDs in in JSON format.</RULE><RULE role=\\\"assistant\\\">Read all the information and make a report in JSON formatt\\n\\n You have to write keyword ONLY <example>keywords_1: [\\\"LLM\\\", ...]</example>.Answer should be surrounded with <keywords_1></keywords_1> tag.</RULE><objective>\\n{objective}\\n</objective><environment>\\n{environment}\\n</environment><keywords_mid_thought_1>\\n{keywords_mid_thought_1}\\n</keywords_mid_thought_1><EOS></EOS>\"\n",
        "    ]\n",
        "}\n",
        "keyworder1 = LLMComponent(json_data = json_data)\n",
        "\n",
        "# 実行\n",
        "memory = keyworder1(llm_name, memory)\n",
        "pprint.pprint(memory, width=200)"
      ]
    },
    {
      "cell_type": "markdown",
      "metadata": {
        "id": "1BRjhI8_Q_E4"
      },
      "source": [
        "*  Retriever1"
      ]
    },
    {
      "cell_type": "code",
      "execution_count": null,
      "metadata": {
        "id": "2TMmhJDdRAwU"
      },
      "outputs": [],
      "source": [
        "# 設定\n",
        "# Semantic Scholar API\n",
        "# https://www.semanticscholar.org/product/api\n",
        "# os.environ[\"\"] = userdata.get('')\n",
        "save_dir = \"/content/papers1/\"\n",
        "search_variable = \"keywords_1\"\n",
        "output_variable = \"collection_of_papers_1\"\n",
        "# 検索するkeywordの数\n",
        "num_keywords = 1\n",
        "# 検索で取得する論文の数\n",
        "num_retrieve_paper = 5\n",
        "retriever1 = SemanticScholarRetriever(\n",
        "    save_dir=save_dir, \n",
        "    search_variable=search_variable, \n",
        "    output_variable=output_variable,\n",
        "    num_keywords=num_keywords,\n",
        "    num_retrieve_paper=num_retrieve_paper\n",
        "    )\n",
        "\n",
        "# 実行\n",
        "memory = retriever1(memory)\n",
        "pprint.pprint(memory, width=200)"
      ]
    },
    {
      "cell_type": "markdown",
      "metadata": {
        "id": "wK79ajJTRBi2"
      },
      "source": [
        "* Selector1"
      ]
    },
    {
      "cell_type": "code",
      "execution_count": null,
      "metadata": {
        "id": "JRxQGNOqRDGj"
      },
      "outputs": [],
      "source": [
        "# 設定\n",
        "json_data = {\n",
        "    \"input\": [\"objective\", \"environment\", \"collection_of_papers_1\"],\n",
        "    \"output\": [\"selected_paper_1\"],\n",
        "    \"prompt\": \"\"\"\n",
        "    \"\"\"\n",
        "}\n",
        "selector1 = LLMComponent(json_data = json_data)\n",
        "\n",
        "# 実行\n",
        "memory = selector1(llm_name, memory)\n",
        "pprint.pprint(memory, width=200)"
      ]
    },
    {
      "cell_type": "markdown",
      "metadata": {
        "id": "Y7ErO2ovRMQV"
      },
      "source": [
        "- Extractor1"
      ]
    },
    {
      "cell_type": "code",
      "execution_count": null,
      "metadata": {
        "id": "giJNgUACROJ3"
      },
      "outputs": [],
      "source": [
        "# 設定\n",
        "json_data = {\n",
        "    \"input\": [],\n",
        "    \"output\": [],\n",
        "    \"prompt\": \"\"\"\n",
        "    \"\"\"\n",
        "}\n",
        "extractor1 = LLMComponent(json_data = json_data)\n",
        "\n",
        "# 実行\n",
        "memory = extractor1(llm_name, memory)\n",
        "pprint.pprint(memory, width=200)"
      ]
    },
    {
      "cell_type": "markdown",
      "metadata": {
        "id": "RCkVusaxROxj"
      },
      "source": [
        "* GithubRetriever1"
      ]
    },
    {
      "cell_type": "code",
      "execution_count": null,
      "metadata": {
        "id": "OBVJIMexRTHR"
      },
      "outputs": [],
      "source": [
        "# 設定\n",
        "save_dir = \"/content/repository1/\"\n",
        "search_variable = 'github_url_1'\n",
        "output_variable = ['folder_structure_1', 'github_file_1']\n",
        "githubretriever1 = GithubRetriever(save_dir=save_dir, search_variable=search_variable, output_variable=output_variable)\n",
        "\n",
        "# 実行\n",
        "memory = githubretriever1(memory)\n",
        "pprint.pprint(memory, width=200)"
      ]
    },
    {
      "cell_type": "markdown",
      "metadata": {
        "id": "Dokl7PFrROoY"
      },
      "source": [
        "- CodeExtractor1"
      ]
    },
    {
      "cell_type": "code",
      "execution_count": null,
      "metadata": {
        "id": "Ri7MLpu9RVoV"
      },
      "outputs": [],
      "source": [
        "# 設定\n",
        "json_data = {\n",
        "    \"input\": [],\n",
        "    \"output\": [],\n",
        "    \"prompt\": \"\"\"\n",
        "    \"\"\"\n",
        "}\n",
        "codeextractor1 = LLMComponent(json_data = json_data)\n",
        "\n",
        "# 実行\n",
        "memory = codeextractor1(llm_name, memory)\n",
        "pprint.pprint(memory, width=200)"
      ]
    },
    {
      "cell_type": "markdown",
      "metadata": {
        "id": "yCHZURe8RaK6"
      },
      "source": [
        "- Decomposer1"
      ]
    },
    {
      "cell_type": "code",
      "execution_count": null,
      "metadata": {
        "id": "b3vEO9x-SIrV"
      },
      "outputs": [],
      "source": [
        "# 設定\n",
        "json_data = {\n",
        "    \"input\": [],\n",
        "    \"output\": [],\n",
        "    \"prompt\": \"\"\"\n",
        "    \"\"\"\n",
        "}\n",
        "decomposer1 = LLMComponent(json_data = json_data)\n",
        "\n",
        "# 実行\n",
        "memory = decomposer1(llm_name, memory)\n",
        "pprint.pprint(memory, width=200)"
      ]
    },
    {
      "cell_type": "markdown",
      "metadata": {
        "id": "SYvS7mitTF9m"
      },
      "source": [
        "- Keyworder2"
      ]
    },
    {
      "cell_type": "code",
      "execution_count": null,
      "metadata": {
        "id": "60xTpElVTJQJ"
      },
      "outputs": [],
      "source": [
        "# 設定\n",
        "json_data = {\n",
        "    \"input\": [],\n",
        "    \"output\": [],\n",
        "    \"prompt\": \"\"\"\n",
        "    \"\"\"\n",
        "}\n",
        "keyworder2 = LLMComponent(json_data = json_data)\n",
        "\n",
        "# 実行\n",
        "memory = keyworder2(llm_name, memory)\n",
        "pprint.pprint(memory, width=200)"
      ]
    },
    {
      "cell_type": "markdown",
      "metadata": {
        "id": "bc1aC8NyTMa6"
      },
      "source": [
        "- Retriever2"
      ]
    },
    {
      "cell_type": "code",
      "execution_count": null,
      "metadata": {
        "id": "R5WzNh_gTP2_"
      },
      "outputs": [],
      "source": [
        "# 設定\n",
        "# Semantic Scholar API\n",
        "# https://www.semanticscholar.org/product/api\n",
        "# os.environ[\"\"] = userdata.get('')\n",
        "save_dir = \"/content/papers2/\"\n",
        "search_variable = \"keywords_2\"\n",
        "output_variable = \"collection_of_papers_2\"\n",
        "# 検索するkeywordの数\n",
        "num_keywords = 1\n",
        "# 検索で取得する論文の数\n",
        "num_retrieve_paper = 5\n",
        "retriever2 = SemanticScholarRetriever(\n",
        "    save_dir=save_dir, \n",
        "    search_variable=search_variable, \n",
        "    output_variable=output_variable,\n",
        "    num_keywords=num_keywords,\n",
        "    num_retrieve_paper=num_retrieve_paper\n",
        "    )\n",
        "\n",
        "# 実行\n",
        "memory = retriever2(memory)\n",
        "pprint.pprint(memory, width=200)"
      ]
    },
    {
      "cell_type": "markdown",
      "metadata": {
        "id": "PiqmBYvZTQx-"
      },
      "source": [
        "- Selector2"
      ]
    },
    {
      "cell_type": "code",
      "execution_count": null,
      "metadata": {
        "id": "b4dghSgJTS8l"
      },
      "outputs": [],
      "source": [
        "# 設定\n",
        "json_data = {\n",
        "    \"input\": [],\n",
        "    \"output\": [],\n",
        "    \"prompt\": \"\"\"\n",
        "    \"\"\"\n",
        "}\n",
        "selector2 = LLMComponent(json_data = json_data)\n",
        "\n",
        "# 実行\n",
        "memory = selector2(llm_name, memory)\n",
        "pprint.pprint(memory, width=200)"
      ]
    },
    {
      "cell_type": "markdown",
      "metadata": {
        "id": "XyX111NmTU0-"
      },
      "source": [
        "- Extractor2"
      ]
    },
    {
      "cell_type": "code",
      "execution_count": null,
      "metadata": {
        "id": "ZjGBwmQzTW_p"
      },
      "outputs": [],
      "source": [
        "# 設定\n",
        "json_data = {\n",
        "    \"input\": [],\n",
        "    \"output\": [],\n",
        "    \"prompt\": \"\"\"\n",
        "    \"\"\"\n",
        "}\n",
        "extractor2 = LLMComponent(json_data = json_data)\n",
        "\n",
        "# 実行\n",
        "memory = extractor2(llm_name, memory)\n",
        "pprint.pprint(memory, width=200)"
      ]
    },
    {
      "cell_type": "markdown",
      "metadata": {
        "id": "jr2DO6vlTYlU"
      },
      "source": [
        "- GithubRetriever2"
      ]
    },
    {
      "cell_type": "code",
      "execution_count": null,
      "metadata": {
        "id": "xO0WnCZ-Tanu"
      },
      "outputs": [],
      "source": [
        "# 設定\n",
        "save_dir = \"/content/repository2/\"\n",
        "search_variable = 'github_url_2'\n",
        "output_variable = ['folder_structure_2', 'github_file_2']\n",
        "githubretriever2 = GithubRetriever(save_dir=save_dir, search_variable=search_variable, output_variable=output_variable)\n",
        "\n",
        "# 実行\n",
        "memory = githubretriever2(memory)\n",
        "pprint.pprint(memory, width=200)"
      ]
    },
    {
      "cell_type": "markdown",
      "metadata": {
        "id": "7nkePbUWTbQt"
      },
      "source": [
        "- CodeExtractor2"
      ]
    },
    {
      "cell_type": "code",
      "execution_count": null,
      "metadata": {
        "id": "ASkndtaUTd0V"
      },
      "outputs": [],
      "source": [
        "# 設定\n",
        "json_data = {\n",
        "    \"input\": [],\n",
        "    \"output\": [],\n",
        "    \"prompt\": \"\"\"\n",
        "    \"\"\"\n",
        "}\n",
        "codeextractor2 = LLMComponent(json_data = json_data)\n",
        "\n",
        "# 実行\n",
        "memory = codeextractor2(llm_name, memory)\n",
        "pprint.pprint(memory, width=200)"
      ]
    },
    {
      "cell_type": "markdown",
      "metadata": {
        "id": "ojJ_5kEpTesL"
      },
      "source": [
        "- Decomposer2"
      ]
    },
    {
      "cell_type": "code",
      "execution_count": null,
      "metadata": {
        "id": "fjZE_SP4TgTP"
      },
      "outputs": [],
      "source": [
        "# 設定\n",
        "json_data = {\n",
        "    \"input\": [],\n",
        "    \"output\": [],\n",
        "    \"prompt\": \"\"\"\n",
        "    \"\"\"\n",
        "}\n",
        "decomposer2 = LLMComponent(json_data = json_data)\n",
        "\n",
        "# 実行\n",
        "memory = decomposer2(llm_name, memory)\n",
        "pprint.pprint(memory, width=200)"
      ]
    },
    {
      "cell_type": "markdown",
      "metadata": {
        "id": "oS8b76ERTgrW"
      },
      "source": [
        "- Creator"
      ]
    },
    {
      "cell_type": "code",
      "execution_count": null,
      "metadata": {
        "id": "Hh-pZ-faTh7q"
      },
      "outputs": [],
      "source": [
        "# 設定\n",
        "json_data = {\n",
        "    \"input\": [],\n",
        "    \"output\": [],\n",
        "    \"prompt\": \"\"\"\n",
        "    \"\"\"\n",
        "}\n",
        "creator = LLMComponent(json_data = json_data)\n",
        "\n",
        "# 実行\n",
        "memory = creator(llm_name, memory)\n",
        "pprint.pprint(memory, width=200)"
      ]
    },
    {
      "cell_type": "markdown",
      "metadata": {
        "id": "i5c70abcfT5x"
      },
      "source": [
        "* Velifier1"
      ]
    },
    {
      "cell_type": "code",
      "execution_count": null,
      "metadata": {
        "id": "TFp9Qaw6fZmV"
      },
      "outputs": [],
      "source": [
        "# 設定\n",
        "json_data = {\n",
        "    \"input\": [],\n",
        "    \"output\": [],\n",
        "    \"prompt\": \"\"\"\n",
        "    \"\"\"\n",
        "}\n",
        "verifier1 = LLMComponent(json_data = json_data)\n",
        "\n",
        "# 実行\n",
        "memory = verifier1(llm_name, memory)\n",
        "pprint.pprint(memory, width=200)"
      ]
    },
    {
      "cell_type": "markdown",
      "metadata": {
        "id": "z7DjcEcofaRq"
      },
      "source": [
        "- Verifier2"
      ]
    },
    {
      "cell_type": "code",
      "execution_count": null,
      "metadata": {
        "id": "BeScit1-feDQ"
      },
      "outputs": [],
      "source": [
        "# 設定\n",
        "json_data = {\n",
        "    \"input\": [],\n",
        "    \"output\": [],\n",
        "    \"prompt\": \"\"\"\n",
        "    \"\"\"\n",
        "}\n",
        "verifier2 = LLMComponent(json_data = json_data)\n",
        "\n",
        "# 実行\n",
        "memory = verifier2(llm_name, memory)\n",
        "pprint.pprint(memory, width=200)"
      ]
    }
  ],
  "metadata": {
    "colab": {
      "authorship_tag": "ABX9TyP1leJTblMDmGcXFTqY5acC",
      "include_colab_link": true,
      "provenance": []
    },
    "kernelspec": {
      "display_name": "Python 3",
      "name": "python3"
    },
    "language_info": {
      "name": "python"
    }
  },
  "nbformat": 4,
  "nbformat_minor": 0
}
