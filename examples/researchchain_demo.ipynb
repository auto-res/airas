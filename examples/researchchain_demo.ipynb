{
  "nbformat": 4,
  "nbformat_minor": 0,
  "metadata": {
    "colab": {
      "provenance": [],
      "authorship_tag": "ABX9TyP1leJTblMDmGcXFTqY5acC",
      "include_colab_link": true
    },
    "kernelspec": {
      "name": "python3",
      "display_name": "Python 3"
    },
    "language_info": {
      "name": "python"
    }
  },
  "cells": [
    {
      "cell_type": "markdown",
      "metadata": {
        "id": "view-in-github",
        "colab_type": "text"
      },
      "source": [
        "<a href=\"https://colab.research.google.com/github/auto-res/researchchain/blob/develop-tanaka/examples/researchchain_demo.ipynb\" target=\"_parent\"><img src=\"https://colab.research.google.com/assets/colab-badge.svg\" alt=\"Open In Colab\"/></a>"
      ]
    },
    {
      "cell_type": "markdown",
      "source": [
        "# ResearChainを使った自動研究のデモ\n",
        "- https://miro.com/app/board/uXjVK44N9U8=/\n",
        "- 上記のアーキテクチャの一部を実装"
      ],
      "metadata": {
        "id": "1ofpNVyEQc34"
      }
    },
    {
      "cell_type": "code",
      "execution_count": 1,
      "metadata": {
        "colab": {
          "base_uri": "https://localhost:8080/"
        },
        "id": "7xxj7kjBQQJH",
        "outputId": "fc09c92d-57e4-45ff-8208-103e5b4e2dce"
      },
      "outputs": [
        {
          "output_type": "stream",
          "name": "stdout",
          "text": [
            "\u001b[2K     \u001b[90m━━━━━━━━━━━━━━━━━━━━━━━━━━━━━━━━━━━━━━━━\u001b[0m \u001b[32m50.4/50.4 kB\u001b[0m \u001b[31m1.1 MB/s\u001b[0m eta \u001b[36m0:00:00\u001b[0m\n",
            "\u001b[2K   \u001b[90m━━━━━━━━━━━━━━━━━━━━━━━━━━━━━━━━━━━━━━━━\u001b[0m \u001b[32m1.0/1.0 MB\u001b[0m \u001b[31m13.8 MB/s\u001b[0m eta \u001b[36m0:00:00\u001b[0m\n",
            "\u001b[2K   \u001b[90m━━━━━━━━━━━━━━━━━━━━━━━━━━━━━━━━━━━━━━━━\u001b[0m \u001b[32m2.3/2.3 MB\u001b[0m \u001b[31m19.3 MB/s\u001b[0m eta \u001b[36m0:00:00\u001b[0m\n",
            "\u001b[2K   \u001b[90m━━━━━━━━━━━━━━━━━━━━━━━━━━━━━━━━━━━━━━━━\u001b[0m \u001b[32m367.8/367.8 kB\u001b[0m \u001b[31m6.0 MB/s\u001b[0m eta \u001b[36m0:00:00\u001b[0m\n",
            "\u001b[2K   \u001b[90m━━━━━━━━━━━━━━━━━━━━━━━━━━━━━━━━━━━━━━━━\u001b[0m \u001b[32m295.8/295.8 kB\u001b[0m \u001b[31m11.7 MB/s\u001b[0m eta \u001b[36m0:00:00\u001b[0m\n",
            "\u001b[2K   \u001b[90m━━━━━━━━━━━━━━━━━━━━━━━━━━━━━━━━━━━━━━━━\u001b[0m \u001b[32m866.9/866.9 kB\u001b[0m \u001b[31m18.7 MB/s\u001b[0m eta \u001b[36m0:00:00\u001b[0m\n",
            "\u001b[2K   \u001b[90m━━━━━━━━━━━━━━━━━━━━━━━━━━━━━━━━━━━━━━━━\u001b[0m \u001b[32m76.4/76.4 kB\u001b[0m \u001b[31m4.1 MB/s\u001b[0m eta \u001b[36m0:00:00\u001b[0m\n",
            "\u001b[2K   \u001b[90m━━━━━━━━━━━━━━━━━━━━━━━━━━━━━━━━━━━━━━━━\u001b[0m \u001b[32m77.9/77.9 kB\u001b[0m \u001b[31m3.9 MB/s\u001b[0m eta \u001b[36m0:00:00\u001b[0m\n",
            "\u001b[2K   \u001b[90m━━━━━━━━━━━━━━━━━━━━━━━━━━━━━━━━━━━━━━━━\u001b[0m \u001b[32m318.9/318.9 kB\u001b[0m \u001b[31m15.9 MB/s\u001b[0m eta \u001b[36m0:00:00\u001b[0m\n",
            "\u001b[2K   \u001b[90m━━━━━━━━━━━━━━━━━━━━━━━━━━━━━━━━━━━━━━━━\u001b[0m \u001b[32m396.4/396.4 kB\u001b[0m \u001b[31m18.3 MB/s\u001b[0m eta \u001b[36m0:00:00\u001b[0m\n",
            "\u001b[2K   \u001b[90m━━━━━━━━━━━━━━━━━━━━━━━━━━━━━━━━━━━━━━━━\u001b[0m \u001b[32m290.4/290.4 kB\u001b[0m \u001b[31m11.5 MB/s\u001b[0m eta \u001b[36m0:00:00\u001b[0m\n",
            "\u001b[2K   \u001b[90m━━━━━━━━━━━━━━━━━━━━━━━━━━━━━━━━━━━━━━━━\u001b[0m \u001b[32m49.3/49.3 kB\u001b[0m \u001b[31m1.5 MB/s\u001b[0m eta \u001b[36m0:00:00\u001b[0m\n",
            "\u001b[2K   \u001b[90m━━━━━━━━━━━━━━━━━━━━━━━━━━━━━━━━━━━━━━━━\u001b[0m \u001b[32m141.9/141.9 kB\u001b[0m \u001b[31m8.1 MB/s\u001b[0m eta \u001b[36m0:00:00\u001b[0m\n",
            "\u001b[2K   \u001b[90m━━━━━━━━━━━━━━━━━━━━━━━━━━━━━━━━━━━━━━━━\u001b[0m \u001b[32m58.3/58.3 kB\u001b[0m \u001b[31m3.7 MB/s\u001b[0m eta \u001b[36m0:00:00\u001b[0m\n",
            "\u001b[?25h"
          ]
        }
      ],
      "source": [
        "%pip install --upgrade -q researchchain"
      ]
    },
    {
      "cell_type": "code",
      "source": [
        "from researchchain.llm_component.llm_component import LLMComponent\n",
        "from researchchain.retriever_component.semantic_scholar import SemanticScholarRetriever\n",
        "from researchchain.retriever_component.github import GithubRetriever\n",
        "\n",
        "import os\n",
        "from google.colab import userdata\n",
        "os.environ[\"OPENAI_API_KEY\"] = userdata.get('OPENAI_API_KEY')\n",
        "os.environ[\"GOOGLE_API_KEY\"] = userdata.get('GOOGLE_API_KEY')\n",
        "os.environ[\"ANTHROPIC_API_KEY\"] = userdata.get('ANTHROPIC_API_KEY')\n",
        "\n",
        "llm_name = \"gpt-4o-2024-08-06\"\n",
        "#llm_name = \"gpt-4o-2024-05-13\"\n",
        "#llm_name =  \"gpt-4o-mini-2024-07-18\"\n",
        "#llm_name = \"gpt-4-turbo-2024-04-09\"\n",
        "#llm_name = \"gpt-4-0125-preview\"\n",
        "#llm_name = \"gemini-1.0-pro\"\n",
        "#llm_name = \"gemini-1.5-pro\"\n",
        "#llm_name = \"gemini-1.5-flash\"\n",
        "#llm_name = \"claude-3-5-sonnet-20240620\"\n",
        "#llm_name = \"claude-3-opus-20240229\""
      ],
      "metadata": {
        "id": "JVv9EZDEQpLt"
      },
      "execution_count": null,
      "outputs": []
    },
    {
      "cell_type": "markdown",
      "source": [
        "# Memory"
      ],
      "metadata": {
        "id": "gAbF_cfqTjY4"
      }
    },
    {
      "cell_type": "code",
      "source": [
        "memory = {\n",
        "    \"environment\" : \"\",\n",
        "    \"objective\" : \"\",\n",
        "}"
      ],
      "metadata": {
        "id": "sv4lKS2cTn0l"
      },
      "execution_count": null,
      "outputs": []
    },
    {
      "cell_type": "markdown",
      "source": [
        "# 各Componentの処理"
      ],
      "metadata": {
        "id": "mi_gR2nSToCs"
      }
    },
    {
      "cell_type": "markdown",
      "source": [
        "- Keyworder1"
      ],
      "metadata": {
        "id": "4lX9NLmAQ7Xj"
      }
    },
    {
      "cell_type": "code",
      "source": [
        "# 設定\n",
        "json_data = {\n",
        "    \"input\" : [\n",
        "        [\"environment\",\"objective\"],\n",
        "        [\"environment\",\"objective\", \"keywords_mid_thought_1\"]\n",
        "    ],\n",
        "    \"output\" : [\n",
        "        [\"keywords_mid_thought_1\", \"keywords_1\"],\n",
        "        [\"keywords_1\"]\n",
        "    ],\n",
        "    \"prompt\" : [\n",
        "        \"You have to think of a 5 KEYWORDs regarding academic search. There is a ojbective and limitation that we can handle, so you have to first interpret what the objective really means in keyword search. Answer step by step what do we need when thinking keywords.== OBJECTIVE ==\\n{objective}== LIMITATION ==\\n{environment}\",\n",
        "        \"You have to think of a 5 KEYWORDs in in JSON format. Read all the information and make a report in JSON formatt\\n\\n You have to write keyword ONLY.\\n\\n== REPORT EXAMPLE ==\\n{report_example}== OBJECTIVE ==\\n{objective}== LIMITATION ==\\n{environment}== THOUGHT ==\\n{keywords_mid_thought}\"\n",
        "    ]\n",
        "}\n",
        "keyworder1 = LLMComponent(json_data = json_data)\n",
        "\n",
        "# 実行\n",
        "memory = keyworder1(llm_name, memory)\n",
        "print(memory)"
      ],
      "metadata": {
        "id": "z0HkHzQqQvXY"
      },
      "execution_count": null,
      "outputs": []
    },
    {
      "cell_type": "markdown",
      "source": [
        "*  Retriever1"
      ],
      "metadata": {
        "id": "1BRjhI8_Q_E4"
      }
    },
    {
      "cell_type": "code",
      "source": [
        "# 設定\n",
        "# Semantic Scholar API\n",
        "# https://www.semanticscholar.org/product/api\n",
        "# os.environ[\"\"] = userdata.get('')\n",
        "save_dir = \"/content/papers1/\"\n",
        "search_variable = \"keywords_1\"\n",
        "output_variable = \"collection_of_papers_1\"\n",
        "retriever1 = SemanticScholarRetriever(save_dir=save_dir, search_variable=search_variable, output_variable=output_variable)\n",
        "\n",
        "# 実行\n",
        "memory = retriever1(memory)\n",
        "print(memory)"
      ],
      "metadata": {
        "id": "2TMmhJDdRAwU"
      },
      "execution_count": null,
      "outputs": []
    },
    {
      "cell_type": "markdown",
      "source": [
        "* Selector1"
      ],
      "metadata": {
        "id": "wK79ajJTRBi2"
      }
    },
    {
      "cell_type": "code",
      "source": [
        "# 設定\n",
        "json_data = {\n",
        "    \"input\": [\"objective\", \"environment\", \"collection_of_papers_1\"],\n",
        "    \"output\": [\"selected_paper_1\"],\n",
        "    \"prompt\": \"\"\"\n",
        "    \"\"\"\n",
        "}\n",
        "selector1 = LLMComponent(json_data = json_data)\n",
        "\n",
        "# 実行\n",
        "memory = selector1(llm_name, memory)\n",
        "print(memory)"
      ],
      "metadata": {
        "id": "JRxQGNOqRDGj"
      },
      "execution_count": null,
      "outputs": []
    },
    {
      "cell_type": "markdown",
      "source": [
        "- Extractor1"
      ],
      "metadata": {
        "id": "Y7ErO2ovRMQV"
      }
    },
    {
      "cell_type": "code",
      "source": [
        "# 設定\n",
        "json_data = {\n",
        "    \"input\": [],\n",
        "    \"output\": [],\n",
        "    \"prompt\": \"\"\"\n",
        "    \"\"\"\n",
        "}\n",
        "extractor1 = LLMComponent(json_data = json_data)\n",
        "\n",
        "# 実行\n",
        "memory = extractor1(llm_name, memory)\n",
        "print(memory)"
      ],
      "metadata": {
        "id": "giJNgUACROJ3"
      },
      "execution_count": null,
      "outputs": []
    },
    {
      "cell_type": "markdown",
      "source": [
        "* GithubRetriever1"
      ],
      "metadata": {
        "id": "RCkVusaxROxj"
      }
    },
    {
      "cell_type": "code",
      "source": [
        "# 設定\n",
        "save_dir = \"/content//repository1/\"\n",
        "search_variable = \"keywords_1\"\n",
        "output_variable = \"collection_of_papers_1\"\n",
        "githubretriever1 = GithubRetriever(save_dir=save_dir, search_variable=search_variable, output_variable=output_variable)\n",
        "\n",
        "# 実行\n",
        "memory = githubretriever1(memory)\n",
        "print(memory)"
      ],
      "metadata": {
        "id": "OBVJIMexRTHR"
      },
      "execution_count": null,
      "outputs": []
    },
    {
      "cell_type": "markdown",
      "source": [
        "- CodeExtractor1"
      ],
      "metadata": {
        "id": "Dokl7PFrROoY"
      }
    },
    {
      "cell_type": "code",
      "source": [
        "# 設定\n",
        "json_data = {\n",
        "    \"input\": [],\n",
        "    \"output\": [],\n",
        "    \"prompt\": \"\"\"\n",
        "    \"\"\"\n",
        "}\n",
        "codeextractor1 = LLMComponent(json_data = json_data)\n",
        "\n",
        "# 実行\n",
        "memory = codeextractor1(llm_name, memory)\n",
        "print(memory)"
      ],
      "metadata": {
        "id": "Ri7MLpu9RVoV"
      },
      "execution_count": null,
      "outputs": []
    },
    {
      "cell_type": "markdown",
      "source": [
        "- Decomposer1"
      ],
      "metadata": {
        "id": "yCHZURe8RaK6"
      }
    },
    {
      "cell_type": "code",
      "source": [
        "# 設定\n",
        "json_data = {\n",
        "    \"input\": [],\n",
        "    \"output\": [],\n",
        "    \"prompt\": \"\"\"\n",
        "    \"\"\"\n",
        "}\n",
        "decomposer1 = LLMComponent(json_data = json_data)\n",
        "\n",
        "# 実行\n",
        "memory = decomposer1(llm_name, memory)\n",
        "print(memory)"
      ],
      "metadata": {
        "id": "b3vEO9x-SIrV"
      },
      "execution_count": null,
      "outputs": []
    },
    {
      "cell_type": "markdown",
      "source": [
        "- Keyworder2"
      ],
      "metadata": {
        "id": "SYvS7mitTF9m"
      }
    },
    {
      "cell_type": "code",
      "source": [
        "# 設定\n",
        "json_data = {\n",
        "    \"input\": [],\n",
        "    \"output\": [],\n",
        "    \"prompt\": \"\"\"\n",
        "    \"\"\"\n",
        "}\n",
        "keyworder2 = LLMComponent(json_data = json_data)\n",
        "\n",
        "# 実行\n",
        "memory = keyworder2(llm_name, memory)\n",
        "print(memory)"
      ],
      "metadata": {
        "id": "60xTpElVTJQJ"
      },
      "execution_count": null,
      "outputs": []
    },
    {
      "cell_type": "markdown",
      "source": [
        "- Retriever2"
      ],
      "metadata": {
        "id": "bc1aC8NyTMa6"
      }
    },
    {
      "cell_type": "code",
      "source": [
        "# 設定\n",
        "# Semantic Scholar API\n",
        "# https://www.semanticscholar.org/product/api\n",
        "# os.environ[\"\"] = userdata.get('')\n",
        "save_dir = \"/content/papers2/\"\n",
        "search_variable = \"keywords_2\"\n",
        "output_variable = \"collection_of_papers_2\"\n",
        "retriever2 = SemanticScholarRetriever(save_dir=save_dir, search_variable=search_variable, output_variable=output_variable)\n",
        "\n",
        "# 実行\n",
        "memory = retriever2(memory)\n",
        "print(memory)"
      ],
      "metadata": {
        "id": "R5WzNh_gTP2_"
      },
      "execution_count": null,
      "outputs": []
    },
    {
      "cell_type": "markdown",
      "source": [
        "- Selector2"
      ],
      "metadata": {
        "id": "PiqmBYvZTQx-"
      }
    },
    {
      "cell_type": "code",
      "source": [
        "# 設定\n",
        "json_data = {\n",
        "    \"input\": [],\n",
        "    \"output\": [],\n",
        "    \"prompt\": \"\"\"\n",
        "    \"\"\"\n",
        "}\n",
        "selector2 = LLMComponent(json_data = json_data)\n",
        "\n",
        "# 実行\n",
        "memory = selector2(llm_name, memory)\n",
        "print(memory)"
      ],
      "metadata": {
        "id": "b4dghSgJTS8l"
      },
      "execution_count": null,
      "outputs": []
    },
    {
      "cell_type": "markdown",
      "source": [
        "- Extractor2"
      ],
      "metadata": {
        "id": "XyX111NmTU0-"
      }
    },
    {
      "cell_type": "code",
      "source": [
        "# 設定\n",
        "json_data = {\n",
        "    \"input\": [],\n",
        "    \"output\": [],\n",
        "    \"prompt\": \"\"\"\n",
        "    \"\"\"\n",
        "}\n",
        "extractor2 = LLMComponent(json_data = json_data)\n",
        "\n",
        "# 実行\n",
        "memory = extractor2(llm_name, memory)\n",
        "print(memory)"
      ],
      "metadata": {
        "id": "ZjGBwmQzTW_p"
      },
      "execution_count": null,
      "outputs": []
    },
    {
      "cell_type": "markdown",
      "source": [
        "- GithubRetriever2"
      ],
      "metadata": {
        "id": "jr2DO6vlTYlU"
      }
    },
    {
      "cell_type": "code",
      "source": [
        "# 設定\n",
        "save_dir = \"/content/repository2/\"\n",
        "search_variable = 'github_url_2'\n",
        "output_variable = ['folder_structure_2', 'github_file_2']\n",
        "githubretriever2 = GithubRetriever(save_dir=save_dir, search_variable=search_variable, output_variable=output_variable)\n",
        "\n",
        "# 実行\n",
        "memory = githubretriever2(memory)\n",
        "print(memory)"
      ],
      "metadata": {
        "id": "xO0WnCZ-Tanu"
      },
      "execution_count": null,
      "outputs": []
    },
    {
      "cell_type": "markdown",
      "source": [
        "- CodeExtractor2"
      ],
      "metadata": {
        "id": "7nkePbUWTbQt"
      }
    },
    {
      "cell_type": "code",
      "source": [
        "# 設定\n",
        "json_data = {\n",
        "    \"input\": [],\n",
        "    \"output\": [],\n",
        "    \"prompt\": \"\"\"\n",
        "    \"\"\"\n",
        "}\n",
        "codeextractor2 = LLMComponent(json_data = json_data)\n",
        "\n",
        "# 実行\n",
        "memory = codeextractor2(llm_name, memory)\n",
        "print(memory)"
      ],
      "metadata": {
        "id": "ASkndtaUTd0V"
      },
      "execution_count": null,
      "outputs": []
    },
    {
      "cell_type": "markdown",
      "source": [
        "- Decomposer2"
      ],
      "metadata": {
        "id": "ojJ_5kEpTesL"
      }
    },
    {
      "cell_type": "code",
      "source": [
        "# 設定\n",
        "json_data = {\n",
        "    \"input\": [],\n",
        "    \"output\": [],\n",
        "    \"prompt\": \"\"\"\n",
        "    \"\"\"\n",
        "}\n",
        "decomposer2 = LLMComponent(json_data = json_data)\n",
        "\n",
        "# 実行\n",
        "memory = decomposer2(llm_name, memory)\n",
        "print(memory)"
      ],
      "metadata": {
        "id": "fjZE_SP4TgTP"
      },
      "execution_count": null,
      "outputs": []
    },
    {
      "cell_type": "markdown",
      "source": [
        "- Creator"
      ],
      "metadata": {
        "id": "oS8b76ERTgrW"
      }
    },
    {
      "cell_type": "code",
      "source": [
        "# 設定\n",
        "json_data = {\n",
        "    \"input\": [],\n",
        "    \"output\": [],\n",
        "    \"prompt\": \"\"\"\n",
        "    \"\"\"\n",
        "}\n",
        "creator = LLMComponent(json_data = json_data)\n",
        "\n",
        "# 実行\n",
        "memory = creator(llm_name, memory)\n",
        "print(memory)"
      ],
      "metadata": {
        "id": "Hh-pZ-faTh7q"
      },
      "execution_count": null,
      "outputs": []
    },
    {
      "cell_type": "markdown",
      "source": [
        "* Velifier1"
      ],
      "metadata": {
        "id": "i5c70abcfT5x"
      }
    },
    {
      "cell_type": "code",
      "source": [
        "# 設定\n",
        "json_data = {\n",
        "    \"input\": [],\n",
        "    \"output\": [],\n",
        "    \"prompt\": \"\"\"\n",
        "    \"\"\"\n",
        "}\n",
        "verifier1 = LLMComponent(json_data = json_data)\n",
        "\n",
        "# 実行\n",
        "memory = verifier1(llm_name, memory)\n",
        "print(memory)"
      ],
      "metadata": {
        "id": "TFp9Qaw6fZmV"
      },
      "execution_count": null,
      "outputs": []
    },
    {
      "cell_type": "markdown",
      "source": [
        "- Verifier2"
      ],
      "metadata": {
        "id": "z7DjcEcofaRq"
      }
    },
    {
      "cell_type": "code",
      "source": [
        "# 設定\n",
        "json_data = {\n",
        "    \"input\": [],\n",
        "    \"output\": [],\n",
        "    \"prompt\": \"\"\"\n",
        "    \"\"\"\n",
        "}\n",
        "verifier2 = LLMComponent(json_data = json_data)\n",
        "\n",
        "# 実行\n",
        "memory = verifier2(llm_name, memory)\n",
        "print(memory)"
      ],
      "metadata": {
        "id": "BeScit1-feDQ"
      },
      "execution_count": null,
      "outputs": []
    }
  ]
}