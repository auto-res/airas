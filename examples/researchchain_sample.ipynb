{
  "nbformat": 4,
  "nbformat_minor": 0,
  "metadata": {
    "colab": {
      "provenance": [],
      "authorship_tag": "ABX9TyPpO3N07SLcwA8fYIXnCagi"
    },
    "kernelspec": {
      "name": "python3",
      "display_name": "Python 3"
    },
    "language_info": {
      "name": "python"
    }
  },
  "cells": [
    {
      "cell_type": "markdown",
      "source": [
        "# Researchchain\n",
        "- https://pypi.org/project/researchchain/"
      ],
      "metadata": {
        "id": "yDIoti6BoYdS"
      }
    },
    {
      "cell_type": "markdown",
      "source": [
        "[![Open In Colab](https://colab.research.google.com/assets/colab-badge.svg)](https://colab.research.google.com/github/auto-res/researchchain/blob/develop-tanaka/examples/researchchain_sample.ipynb)"
      ],
      "metadata": {
        "id": "_0cDIaPGpv1n"
      }
    },
    {
      "cell_type": "code",
      "execution_count": 2,
      "metadata": {
        "colab": {
          "base_uri": "https://localhost:8080/"
        },
        "id": "1_2wTCzEa60h",
        "outputId": "756136cd-b9fa-43d6-99d4-9e4dc7d5e5c1"
      },
      "outputs": [
        {
          "output_type": "stream",
          "name": "stdout",
          "text": [
            "\u001b[2K     \u001b[90m━━━━━━━━━━━━━━━━━━━━━━━━━━━━━━━━━━━━━━━━\u001b[0m \u001b[32m50.4/50.4 kB\u001b[0m \u001b[31m1.9 MB/s\u001b[0m eta \u001b[36m0:00:00\u001b[0m\n",
            "\u001b[2K   \u001b[90m━━━━━━━━━━━━━━━━━━━━━━━━━━━━━━━━━━━━━━━━\u001b[0m \u001b[32m1.0/1.0 MB\u001b[0m \u001b[31m17.6 MB/s\u001b[0m eta \u001b[36m0:00:00\u001b[0m\n",
            "\u001b[2K   \u001b[90m━━━━━━━━━━━━━━━━━━━━━━━━━━━━━━━━━━━━━━━━\u001b[0m \u001b[32m2.3/2.3 MB\u001b[0m \u001b[31m41.6 MB/s\u001b[0m eta \u001b[36m0:00:00\u001b[0m\n",
            "\u001b[2K   \u001b[90m━━━━━━━━━━━━━━━━━━━━━━━━━━━━━━━━━━━━━━━━\u001b[0m \u001b[32m365.7/365.7 kB\u001b[0m \u001b[31m17.4 MB/s\u001b[0m eta \u001b[36m0:00:00\u001b[0m\n",
            "\u001b[2K   \u001b[90m━━━━━━━━━━━━━━━━━━━━━━━━━━━━━━━━━━━━━━━━\u001b[0m \u001b[32m295.8/295.8 kB\u001b[0m \u001b[31m13.5 MB/s\u001b[0m eta \u001b[36m0:00:00\u001b[0m\n",
            "\u001b[2K   \u001b[90m━━━━━━━━━━━━━━━━━━━━━━━━━━━━━━━━━━━━━━━━\u001b[0m \u001b[32m866.9/866.9 kB\u001b[0m \u001b[31m30.7 MB/s\u001b[0m eta \u001b[36m0:00:00\u001b[0m\n",
            "\u001b[2K   \u001b[90m━━━━━━━━━━━━━━━━━━━━━━━━━━━━━━━━━━━━━━━━\u001b[0m \u001b[32m76.4/76.4 kB\u001b[0m \u001b[31m4.5 MB/s\u001b[0m eta \u001b[36m0:00:00\u001b[0m\n",
            "\u001b[2K   \u001b[90m━━━━━━━━━━━━━━━━━━━━━━━━━━━━━━━━━━━━━━━━\u001b[0m \u001b[32m77.9/77.9 kB\u001b[0m \u001b[31m4.7 MB/s\u001b[0m eta \u001b[36m0:00:00\u001b[0m\n",
            "\u001b[2K   \u001b[90m━━━━━━━━━━━━━━━━━━━━━━━━━━━━━━━━━━━━━━━━\u001b[0m \u001b[32m318.9/318.9 kB\u001b[0m \u001b[31m15.0 MB/s\u001b[0m eta \u001b[36m0:00:00\u001b[0m\n",
            "\u001b[2K   \u001b[90m━━━━━━━━━━━━━━━━━━━━━━━━━━━━━━━━━━━━━━━━\u001b[0m \u001b[32m396.2/396.2 kB\u001b[0m \u001b[31m17.7 MB/s\u001b[0m eta \u001b[36m0:00:00\u001b[0m\n",
            "\u001b[2K   \u001b[90m━━━━━━━━━━━━━━━━━━━━━━━━━━━━━━━━━━━━━━━━\u001b[0m \u001b[32m150.7/150.7 kB\u001b[0m \u001b[31m8.2 MB/s\u001b[0m eta \u001b[36m0:00:00\u001b[0m\n",
            "\u001b[2K   \u001b[90m━━━━━━━━━━━━━━━━━━━━━━━━━━━━━━━━━━━━━━━━\u001b[0m \u001b[32m49.3/49.3 kB\u001b[0m \u001b[31m2.9 MB/s\u001b[0m eta \u001b[36m0:00:00\u001b[0m\n",
            "\u001b[2K   \u001b[90m━━━━━━━━━━━━━━━━━━━━━━━━━━━━━━━━━━━━━━━━\u001b[0m \u001b[32m141.9/141.9 kB\u001b[0m \u001b[31m6.9 MB/s\u001b[0m eta \u001b[36m0:00:00\u001b[0m\n",
            "\u001b[2K   \u001b[90m━━━━━━━━━━━━━━━━━━━━━━━━━━━━━━━━━━━━━━━━\u001b[0m \u001b[32m58.3/58.3 kB\u001b[0m \u001b[31m3.5 MB/s\u001b[0m eta \u001b[36m0:00:00\u001b[0m\n",
            "\u001b[?25h"
          ]
        }
      ],
      "source": [
        "%pip install --upgrade -q researchchain"
      ]
    },
    {
      "cell_type": "markdown",
      "source": [
        "# LLMComponent"
      ],
      "metadata": {
        "id": "IMjdKgmNeIcL"
      }
    },
    {
      "cell_type": "code",
      "source": [
        "from researchchain.llm_component.llm_component import LLMComponent\n",
        "\n",
        "import os\n",
        "from google.colab import userdata\n",
        "os.environ[\"OPENAI_API_KEY\"] = userdata.get('OPENAI_API_KEY')\n",
        "os.environ[\"GOOGLE_API_KEY\"] = userdata.get('GOOGLE_API_KEY')\n",
        "os.environ[\"ANTHROPIC_API_KEY\"] = userdata.get('ANTHROPIC_API_KEY')\n",
        "\n",
        "llm_name = \"gpt-4o-2024-08-06\"\n",
        "#llm_name = \"gpt-4o-2024-05-13\"\n",
        "#llm_name =  \"gpt-4o-mini-2024-07-18\"\n",
        "#llm_name = \"gpt-4-turbo-2024-04-09\"\n",
        "#llm_name = \"gpt-4-0125-preview\"\n",
        "#llm_name = \"gemini-1.0-pro\"\n",
        "#llm_name = \"gemini-1.5-pro\"\n",
        "#llm_name = \"gemini-1.5-flash\"\n",
        "#llm_name = \"claude-3-5-sonnet-20240620\"\n",
        "#llm_name = \"claude-3-opus-20240229\""
      ],
      "metadata": {
        "id": "nmAOawsybKeb"
      },
      "execution_count": 3,
      "outputs": []
    },
    {
      "cell_type": "markdown",
      "source": [
        "### 1段階のプロンプトを実行する場合"
      ],
      "metadata": {
        "id": "HbJe2QOqnvvy"
      }
    },
    {
      "cell_type": "code",
      "source": [
        "json_data = {\n",
        "    \"input\": [\"source\", \"language\"],\n",
        "    \"output\": [\"output\"],\n",
        "    \"prompt\": \"\"\"\n",
        "    <source_text>\\n{source}\\n</source_text>\\n<target_language>\\n{language}\\n</target_language>\\n<rule>\\nsource_text\n",
        "    タグで与えられた文章を target_language で指定された言語に翻訳して output タグを用いて出力せよ．\\n</rule>\n",
        "    \"\"\"\n",
        "}\n",
        "\n",
        "translater = LLMComponent(llm_name=llm_name, json_data = json_data)"
      ],
      "metadata": {
        "colab": {
          "base_uri": "https://localhost:8080/"
        },
        "id": "WCdp6NoecpKX",
        "outputId": "9950d3f5-a1e6-4bdc-c95d-faa8f8ab3441"
      },
      "execution_count": 4,
      "outputs": [
        {
          "output_type": "stream",
          "name": "stdout",
          "text": [
            "LLMComponent initialized\n",
            "input: ['source', 'language']\n",
            "output: ['output']\n"
          ]
        }
      ]
    },
    {
      "cell_type": "code",
      "source": [
        "memory = {\n",
        "    'source': 'Hello World!!',\n",
        "    'language': 'japanese',\n",
        "    }\n",
        "\n",
        "memory = translater(memory)\n",
        "print(memory)"
      ],
      "metadata": {
        "colab": {
          "base_uri": "https://localhost:8080/"
        },
        "id": "hLlLZOvwkg8l",
        "outputId": "41780a6a-9b6f-41bf-972b-a9f8771363c3"
      },
      "execution_count": 5,
      "outputs": [
        {
          "output_type": "stream",
          "name": "stdout",
          "text": [
            "{'source': 'Hello World!!', 'language': 'japanese', 'output': 'こんにちは、世界!!'}\n"
          ]
        }
      ]
    },
    {
      "cell_type": "markdown",
      "source": [
        "### 2段階のプロンプトを実行する場合"
      ],
      "metadata": {
        "id": "K8h-SWQsnjFo"
      }
    },
    {
      "cell_type": "code",
      "source": [
        "json_data = {\n",
        "    \"input\": [\n",
        "        [\"source\", \"language\"],\n",
        "        [\"output2\"]\n",
        "    ],\n",
        "    \"output\": [\n",
        "        [\"output\", \"output2\"],\n",
        "        [\"output3\"]\n",
        "    ],\n",
        "    \"prompt\": [\n",
        "        \"<source>{source}</source>\\n<language>{language}</language>\\n<rule>source_text タグで与えられた文章を target_language で指定された言語に翻訳して outputタグを用いて出力せよ．さらに，翻訳したものをドイツ語に翻訳しoutput2タグを用いて出力してください．</rule>\",\n",
        "        \"<output2>{output2}</output2>\\n<rule>output2タグで与えられた文章をフランス語に翻訳してoutput3タグを用いて出力せよ．</rule>\"\n",
        "    ]\n",
        "}\n",
        "\n",
        "translater = LLMComponent(llm_name=llm_name, json_data = json_data)"
      ],
      "metadata": {
        "colab": {
          "base_uri": "https://localhost:8080/"
        },
        "id": "xBpVHqejkZ4m",
        "outputId": "0fa4fa37-4287-4dbf-f11d-30545e7c9890"
      },
      "execution_count": 6,
      "outputs": [
        {
          "output_type": "stream",
          "name": "stdout",
          "text": [
            "LLMComponent initialized\n",
            "input: [['source', 'language'], ['output2']]\n",
            "output: [['output', 'output2'], ['output3']]\n"
          ]
        }
      ]
    },
    {
      "cell_type": "code",
      "source": [
        "memory = {\n",
        "    'source': 'Hello World!!',\n",
        "    'language': 'japanese',\n",
        "    'output': None\n",
        "    }\n",
        "\n",
        "memory = translater(memory)\n",
        "print(memory)"
      ],
      "metadata": {
        "colab": {
          "base_uri": "https://localhost:8080/"
        },
        "id": "Lp-xUC55k9wK",
        "outputId": "a7f8d2b2-358d-4feb-bdf1-470cb63226cb"
      },
      "execution_count": 7,
      "outputs": [
        {
          "output_type": "stream",
          "name": "stdout",
          "text": [
            "{'source': 'Hello World!!', 'language': 'japanese', 'output': 'こんにちは、世界!!', 'output2': 'Hallo Welt!!', 'output3': 'Bonjour le monde !!'}\n"
          ]
        }
      ]
    },
    {
      "cell_type": "markdown",
      "source": [
        "# Retriever"
      ],
      "metadata": {
        "id": "V-varhAseK2F"
      }
    },
    {
      "cell_type": "markdown",
      "source": [
        "### SemanticScholarRetriever"
      ],
      "metadata": {
        "id": "5HFakiK6hwA4"
      }
    },
    {
      "cell_type": "code",
      "source": [
        "from researchchain.retriever_component.semantic_scholar import SemanticScholarRetriever"
      ],
      "metadata": {
        "id": "HCTVrOtWfBlg"
      },
      "execution_count": 11,
      "outputs": []
    },
    {
      "cell_type": "code",
      "source": [
        "save_dir = \"/content/\"\n",
        "retriever = SemanticScholarRetriever(save_dir=save_dir)"
      ],
      "metadata": {
        "colab": {
          "base_uri": "https://localhost:8080/"
        },
        "id": "8J7RJwHIgfrk",
        "outputId": "07b737b1-ee2d-41aa-d494-67f7994d1fc9"
      },
      "execution_count": 14,
      "outputs": [
        {
          "output_type": "stream",
          "name": "stdout",
          "text": [
            "SemanticScholarRetriever initialized\n",
            "input: ['keywords']\n",
            "output: ['collection_of_papers_1']\n"
          ]
        }
      ]
    },
    {
      "cell_type": "code",
      "source": [
        "memory = {\n",
        "    'keywords' : \"LLM\",\n",
        "    'collection_of_papers_1' : None\n",
        "}"
      ],
      "metadata": {
        "id": "dd_Ykm9wgppU"
      },
      "execution_count": 24,
      "outputs": []
    },
    {
      "cell_type": "code",
      "source": [
        "memory = retriever(memory)\n",
        "print(memory)"
      ],
      "metadata": {
        "colab": {
          "base_uri": "https://localhost:8080/",
          "height": 665
        },
        "id": "dLKa1YskgzeB",
        "outputId": "79639feb-3d6f-405f-c837-21e93ff06baf"
      },
      "execution_count": 25,
      "outputs": [
        {
          "output_type": "stream",
          "name": "stdout",
          "text": [
            "Intestinal microbiota metabolism of L-carnitine, a nutrient in red meat, promotes atherosclerosis\n",
            "e820491f0bcaadbbc7daecfa505359f3106b8a58\n",
            "Allergic Rhinitis and its Impact on Asthma (ARIA) 2008 *\n",
            "6d260c9eaa2849f209d905edf4e049ad479751c8\n",
            "Tables of bond lengths determined by X-ray and neutron diffraction. Part 1. Bond lengths in organic compounds\n",
            "06a811b8f3c43777422ce40c5342d407398a41d2\n",
            "American Thoracic Society Documents An Official American Thoracic Society / European Respiratory Society Statement : Key Concepts and Advances in Pulmonary Rehabilitation Executive Summary\n",
            "a43d6c1e980f3ba80c1cddbb56ae0a4e6882f19d\n",
            "A Theory for Multiresolution Signal Decomposition: The Wavelet Representation\n",
            "b78626ce1a562c05b1c06f9c805e839f9760b9ab\n",
            "SEVEN-YEAR WILKINSON MICROWAVE ANISOTROPY PROBE (WMAP) OBSERVATIONS: POWER SPECTRA AND WMAP-DERIVED PARAMETERS\n",
            "d5318bf9f74ae1e5ea794ca25f29f27bd5435e31\n",
            "Planning Health Promotion Programs: An Intervention Mapping Approach\n",
            "40a7b0693b4be8d4b9053957903fceb6406b6dba\n",
            "Microalgae for oil: Strain selection, induction of lipid synthesis and outdoor mass cultivation in a low‐cost photobioreactor\n",
            "52cae2b171065726fe1d1249ade1a5847d63f2ba\n",
            "measurement and evaluation in counseling and Development\n",
            "eb4af16526988aed785c3c639e914708b049f699\n",
            "Regional Frequency Analysis: An Approach Based on L-Moments\n",
            "dafa032edadcea535f84f60334af40a3ef1cef6c\n",
            "Downloaded 1001.4635.pdf to /content/\n"
          ]
        },
        {
          "output_type": "error",
          "ename": "TypeError",
          "evalue": "'NoneType' object does not support item assignment",
          "traceback": [
            "\u001b[0;31m---------------------------------------------------------------------------\u001b[0m",
            "\u001b[0;31mTypeError\u001b[0m                                 Traceback (most recent call last)",
            "\u001b[0;32m<ipython-input-25-8131625d1181>\u001b[0m in \u001b[0;36m<cell line: 1>\u001b[0;34m()\u001b[0m\n\u001b[0;32m----> 1\u001b[0;31m \u001b[0mmemory\u001b[0m \u001b[0;34m=\u001b[0m \u001b[0mretriever\u001b[0m\u001b[0;34m(\u001b[0m\u001b[0mmemory\u001b[0m\u001b[0;34m)\u001b[0m\u001b[0;34m\u001b[0m\u001b[0;34m\u001b[0m\u001b[0m\n\u001b[0m\u001b[1;32m      2\u001b[0m \u001b[0mprint\u001b[0m\u001b[0;34m(\u001b[0m\u001b[0mmemory\u001b[0m\u001b[0;34m)\u001b[0m\u001b[0;34m\u001b[0m\u001b[0;34m\u001b[0m\u001b[0m\n",
            "\u001b[0;32m/usr/local/lib/python3.10/dist-packages/researchchain/retriever_component/semantic_scholar.py\u001b[0m in \u001b[0;36m__call__\u001b[0;34m(self, memory)\u001b[0m\n\u001b[1;32m     89\u001b[0m                 \u001b[0mpaper_content\u001b[0m \u001b[0;34m=\u001b[0m \u001b[0mself\u001b[0m\u001b[0;34m.\u001b[0m\u001b[0mconvert_pdf_to_text\u001b[0m\u001b[0;34m(\u001b[0m\u001b[0mpdf_path\u001b[0m\u001b[0;34m)\u001b[0m\u001b[0;34m\u001b[0m\u001b[0;34m\u001b[0m\u001b[0m\n\u001b[1;32m     90\u001b[0m                 \u001b[0mpaper_key\u001b[0m \u001b[0;34m=\u001b[0m \u001b[0;34mf\"paper_1_{idx+1}\"\u001b[0m\u001b[0;34m\u001b[0m\u001b[0;34m\u001b[0m\u001b[0m\n\u001b[0;32m---> 91\u001b[0;31m                 \u001b[0mmemory\u001b[0m\u001b[0;34m[\u001b[0m\u001b[0;34m\"collection_of_papers_1\"\u001b[0m\u001b[0;34m]\u001b[0m\u001b[0;34m[\u001b[0m\u001b[0mpaper_key\u001b[0m\u001b[0;34m]\u001b[0m \u001b[0;34m=\u001b[0m \u001b[0mpaper_content\u001b[0m\u001b[0;34m\u001b[0m\u001b[0;34m\u001b[0m\u001b[0m\n\u001b[0m\u001b[1;32m     92\u001b[0m \u001b[0;34m\u001b[0m\u001b[0m\n\u001b[1;32m     93\u001b[0m         \u001b[0;32mreturn\u001b[0m \u001b[0mmemory\u001b[0m\u001b[0;34m\u001b[0m\u001b[0;34m\u001b[0m\u001b[0m\n",
            "\u001b[0;31mTypeError\u001b[0m: 'NoneType' object does not support item assignment"
          ]
        }
      ]
    },
    {
      "cell_type": "markdown",
      "source": [
        "### GithubRetriever"
      ],
      "metadata": {
        "id": "TaciTMp6hzEZ"
      }
    },
    {
      "cell_type": "code",
      "source": [
        "from researchchain.retriever_component.github import GithubRetriever"
      ],
      "metadata": {
        "id": "QK6FA96heOYz"
      },
      "execution_count": 12,
      "outputs": []
    },
    {
      "cell_type": "code",
      "source": [
        "save_dir = \"/content/\"\n",
        "githubretriever = GithubRetriever(save_dir=save_dir)"
      ],
      "metadata": {
        "colab": {
          "base_uri": "https://localhost:8080/"
        },
        "id": "0OuUi77Pga-O",
        "outputId": "41dadcc8-53ec-481c-922e-4f0c9445989d"
      },
      "execution_count": 18,
      "outputs": [
        {
          "output_type": "stream",
          "name": "stdout",
          "text": [
            "GithubRetriever initialized\n",
            "input: ['github_url']\n",
            "output: ['folder_structure', 'github_file']\n"
          ]
        }
      ]
    },
    {
      "cell_type": "code",
      "source": [
        "memory = {\n",
        "    'github_url' : \"https://github.com/fuyu-quant/IBLM\"\n",
        "}"
      ],
      "metadata": {
        "id": "l_kVkbWgg9J8"
      },
      "execution_count": 19,
      "outputs": []
    },
    {
      "cell_type": "code",
      "source": [
        "memory = githubretriever(memory)\n",
        "print(memory)"
      ],
      "metadata": {
        "id": "oMZlOqFKiBN8"
      },
      "execution_count": 20,
      "outputs": []
    }
  ]
}