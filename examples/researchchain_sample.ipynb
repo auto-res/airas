{
  "nbformat": 4,
  "nbformat_minor": 0,
  "metadata": {
    "colab": {
      "provenance": [],
      "authorship_tag": "ABX9TyMoJDqwtq4aFoyz4FE29q5r",
      "include_colab_link": true
    },
    "kernelspec": {
      "name": "python3",
      "display_name": "Python 3"
    },
    "language_info": {
      "name": "python"
    }
  },
  "cells": [
    {
      "cell_type": "markdown",
      "metadata": {
        "id": "view-in-github",
        "colab_type": "text"
      },
      "source": [
        "<a href=\"https://colab.research.google.com/github/auto-res/researchchain/blob/develop-tanaka/examples/researchchain_sample.ipynb\" target=\"_parent\"><img src=\"https://colab.research.google.com/assets/colab-badge.svg\" alt=\"Open In Colab\"/></a>"
      ]
    },
    {
      "cell_type": "markdown",
      "source": [
        "# Researchchain\n",
        "- https://pypi.org/project/researchchain/"
      ],
      "metadata": {
        "id": "yDIoti6BoYdS"
      }
    },
    {
      "cell_type": "code",
      "execution_count": 1,
      "metadata": {
        "colab": {
          "base_uri": "https://localhost:8080/"
        },
        "id": "1_2wTCzEa60h",
        "outputId": "fc957e25-5e0e-485b-f219-fc811e707e6e"
      },
      "outputs": [
        {
          "output_type": "stream",
          "name": "stdout",
          "text": [
            "Requirement already satisfied: researchchain in /usr/local/lib/python3.10/dist-packages (0.1.2)\n",
            "Collecting researchchain\n",
            "  Downloading researchchain-0.1.3-py3-none-any.whl.metadata (721 bytes)\n",
            "Requirement already satisfied: langchain<0.3.0,>=0.2.15 in /usr/local/lib/python3.10/dist-packages (from researchchain) (0.2.15)\n",
            "Requirement already satisfied: langchain-community<0.3.0,>=0.2.15 in /usr/local/lib/python3.10/dist-packages (from researchchain) (0.2.15)\n",
            "Requirement already satisfied: llmlinks<0.2.0,>=0.1.4 in /usr/local/lib/python3.10/dist-packages (from researchchain) (0.1.14)\n",
            "Requirement already satisfied: openai<2.0.0,>=1.35.13 in /usr/local/lib/python3.10/dist-packages (from researchchain) (1.43.0)\n",
            "Requirement already satisfied: pypdf<5.0.0,>=4.3.1 in /usr/local/lib/python3.10/dist-packages (from researchchain) (4.3.1)\n",
            "Requirement already satisfied: semanticscholar<0.9.0,>=0.8.4 in /usr/local/lib/python3.10/dist-packages (from researchchain) (0.8.4)\n",
            "Requirement already satisfied: PyYAML>=5.3 in /usr/local/lib/python3.10/dist-packages (from langchain<0.3.0,>=0.2.15->researchchain) (6.0.2)\n",
            "Requirement already satisfied: SQLAlchemy<3,>=1.4 in /usr/local/lib/python3.10/dist-packages (from langchain<0.3.0,>=0.2.15->researchchain) (2.0.32)\n",
            "Requirement already satisfied: aiohttp<4.0.0,>=3.8.3 in /usr/local/lib/python3.10/dist-packages (from langchain<0.3.0,>=0.2.15->researchchain) (3.10.5)\n",
            "Requirement already satisfied: async-timeout<5.0.0,>=4.0.0 in /usr/local/lib/python3.10/dist-packages (from langchain<0.3.0,>=0.2.15->researchchain) (4.0.3)\n",
            "Requirement already satisfied: langchain-core<0.3.0,>=0.2.35 in /usr/local/lib/python3.10/dist-packages (from langchain<0.3.0,>=0.2.15->researchchain) (0.2.37)\n",
            "Requirement already satisfied: langchain-text-splitters<0.3.0,>=0.2.0 in /usr/local/lib/python3.10/dist-packages (from langchain<0.3.0,>=0.2.15->researchchain) (0.2.2)\n",
            "Requirement already satisfied: langsmith<0.2.0,>=0.1.17 in /usr/local/lib/python3.10/dist-packages (from langchain<0.3.0,>=0.2.15->researchchain) (0.1.108)\n",
            "Requirement already satisfied: numpy<2,>=1 in /usr/local/lib/python3.10/dist-packages (from langchain<0.3.0,>=0.2.15->researchchain) (1.26.4)\n",
            "Requirement already satisfied: pydantic<3,>=1 in /usr/local/lib/python3.10/dist-packages (from langchain<0.3.0,>=0.2.15->researchchain) (2.8.2)\n",
            "Requirement already satisfied: requests<3,>=2 in /usr/local/lib/python3.10/dist-packages (from langchain<0.3.0,>=0.2.15->researchchain) (2.32.3)\n",
            "Requirement already satisfied: tenacity!=8.4.0,<9.0.0,>=8.1.0 in /usr/local/lib/python3.10/dist-packages (from langchain<0.3.0,>=0.2.15->researchchain) (8.5.0)\n",
            "Requirement already satisfied: dataclasses-json<0.7,>=0.5.7 in /usr/local/lib/python3.10/dist-packages (from langchain-community<0.3.0,>=0.2.15->researchchain) (0.6.7)\n",
            "Requirement already satisfied: anthropic<0.34.0,>=0.33.0 in /usr/local/lib/python3.10/dist-packages (from llmlinks<0.2.0,>=0.1.4->researchchain) (0.33.1)\n",
            "Requirement already satisfied: google-generativeai<0.8.0,>=0.7.2 in /usr/local/lib/python3.10/dist-packages (from llmlinks<0.2.0,>=0.1.4->researchchain) (0.7.2)\n",
            "Requirement already satisfied: anyio<5,>=3.5.0 in /usr/local/lib/python3.10/dist-packages (from openai<2.0.0,>=1.35.13->researchchain) (3.7.1)\n",
            "Requirement already satisfied: distro<2,>=1.7.0 in /usr/lib/python3/dist-packages (from openai<2.0.0,>=1.35.13->researchchain) (1.7.0)\n",
            "Requirement already satisfied: httpx<1,>=0.23.0 in /usr/local/lib/python3.10/dist-packages (from openai<2.0.0,>=1.35.13->researchchain) (0.27.2)\n",
            "Requirement already satisfied: jiter<1,>=0.4.0 in /usr/local/lib/python3.10/dist-packages (from openai<2.0.0,>=1.35.13->researchchain) (0.5.0)\n",
            "Requirement already satisfied: sniffio in /usr/local/lib/python3.10/dist-packages (from openai<2.0.0,>=1.35.13->researchchain) (1.3.1)\n",
            "Requirement already satisfied: tqdm>4 in /usr/local/lib/python3.10/dist-packages (from openai<2.0.0,>=1.35.13->researchchain) (4.66.5)\n",
            "Requirement already satisfied: typing-extensions<5,>=4.11 in /usr/local/lib/python3.10/dist-packages (from openai<2.0.0,>=1.35.13->researchchain) (4.12.2)\n",
            "Requirement already satisfied: nest-asyncio in /usr/local/lib/python3.10/dist-packages (from semanticscholar<0.9.0,>=0.8.4->researchchain) (1.6.0)\n",
            "Requirement already satisfied: aiohappyeyeballs>=2.3.0 in /usr/local/lib/python3.10/dist-packages (from aiohttp<4.0.0,>=3.8.3->langchain<0.3.0,>=0.2.15->researchchain) (2.4.0)\n",
            "Requirement already satisfied: aiosignal>=1.1.2 in /usr/local/lib/python3.10/dist-packages (from aiohttp<4.0.0,>=3.8.3->langchain<0.3.0,>=0.2.15->researchchain) (1.3.1)\n",
            "Requirement already satisfied: attrs>=17.3.0 in /usr/local/lib/python3.10/dist-packages (from aiohttp<4.0.0,>=3.8.3->langchain<0.3.0,>=0.2.15->researchchain) (24.2.0)\n",
            "Requirement already satisfied: frozenlist>=1.1.1 in /usr/local/lib/python3.10/dist-packages (from aiohttp<4.0.0,>=3.8.3->langchain<0.3.0,>=0.2.15->researchchain) (1.4.1)\n",
            "Requirement already satisfied: multidict<7.0,>=4.5 in /usr/local/lib/python3.10/dist-packages (from aiohttp<4.0.0,>=3.8.3->langchain<0.3.0,>=0.2.15->researchchain) (6.0.5)\n",
            "Requirement already satisfied: yarl<2.0,>=1.0 in /usr/local/lib/python3.10/dist-packages (from aiohttp<4.0.0,>=3.8.3->langchain<0.3.0,>=0.2.15->researchchain) (1.9.4)\n",
            "Requirement already satisfied: tokenizers>=0.13.0 in /usr/local/lib/python3.10/dist-packages (from anthropic<0.34.0,>=0.33.0->llmlinks<0.2.0,>=0.1.4->researchchain) (0.19.1)\n",
            "Requirement already satisfied: idna>=2.8 in /usr/local/lib/python3.10/dist-packages (from anyio<5,>=3.5.0->openai<2.0.0,>=1.35.13->researchchain) (3.8)\n",
            "Requirement already satisfied: exceptiongroup in /usr/local/lib/python3.10/dist-packages (from anyio<5,>=3.5.0->openai<2.0.0,>=1.35.13->researchchain) (1.2.2)\n",
            "Requirement already satisfied: marshmallow<4.0.0,>=3.18.0 in /usr/local/lib/python3.10/dist-packages (from dataclasses-json<0.7,>=0.5.7->langchain-community<0.3.0,>=0.2.15->researchchain) (3.22.0)\n",
            "Requirement already satisfied: typing-inspect<1,>=0.4.0 in /usr/local/lib/python3.10/dist-packages (from dataclasses-json<0.7,>=0.5.7->langchain-community<0.3.0,>=0.2.15->researchchain) (0.9.0)\n",
            "Requirement already satisfied: google-ai-generativelanguage==0.6.6 in /usr/local/lib/python3.10/dist-packages (from google-generativeai<0.8.0,>=0.7.2->llmlinks<0.2.0,>=0.1.4->researchchain) (0.6.6)\n",
            "Requirement already satisfied: google-api-core in /usr/local/lib/python3.10/dist-packages (from google-generativeai<0.8.0,>=0.7.2->llmlinks<0.2.0,>=0.1.4->researchchain) (2.19.1)\n",
            "Requirement already satisfied: google-api-python-client in /usr/local/lib/python3.10/dist-packages (from google-generativeai<0.8.0,>=0.7.2->llmlinks<0.2.0,>=0.1.4->researchchain) (2.137.0)\n",
            "Requirement already satisfied: google-auth>=2.15.0 in /usr/local/lib/python3.10/dist-packages (from google-generativeai<0.8.0,>=0.7.2->llmlinks<0.2.0,>=0.1.4->researchchain) (2.27.0)\n",
            "Requirement already satisfied: protobuf in /usr/local/lib/python3.10/dist-packages (from google-generativeai<0.8.0,>=0.7.2->llmlinks<0.2.0,>=0.1.4->researchchain) (3.20.3)\n",
            "Requirement already satisfied: proto-plus<2.0.0dev,>=1.22.3 in /usr/local/lib/python3.10/dist-packages (from google-ai-generativelanguage==0.6.6->google-generativeai<0.8.0,>=0.7.2->llmlinks<0.2.0,>=0.1.4->researchchain) (1.24.0)\n",
            "Requirement already satisfied: certifi in /usr/local/lib/python3.10/dist-packages (from httpx<1,>=0.23.0->openai<2.0.0,>=1.35.13->researchchain) (2024.7.4)\n",
            "Requirement already satisfied: httpcore==1.* in /usr/local/lib/python3.10/dist-packages (from httpx<1,>=0.23.0->openai<2.0.0,>=1.35.13->researchchain) (1.0.5)\n",
            "Requirement already satisfied: h11<0.15,>=0.13 in /usr/local/lib/python3.10/dist-packages (from httpcore==1.*->httpx<1,>=0.23.0->openai<2.0.0,>=1.35.13->researchchain) (0.14.0)\n",
            "Requirement already satisfied: jsonpatch<2.0,>=1.33 in /usr/local/lib/python3.10/dist-packages (from langchain-core<0.3.0,>=0.2.35->langchain<0.3.0,>=0.2.15->researchchain) (1.33)\n",
            "Requirement already satisfied: packaging<25,>=23.2 in /usr/local/lib/python3.10/dist-packages (from langchain-core<0.3.0,>=0.2.35->langchain<0.3.0,>=0.2.15->researchchain) (24.1)\n",
            "Requirement already satisfied: orjson<4.0.0,>=3.9.14 in /usr/local/lib/python3.10/dist-packages (from langsmith<0.2.0,>=0.1.17->langchain<0.3.0,>=0.2.15->researchchain) (3.10.7)\n",
            "Requirement already satisfied: annotated-types>=0.4.0 in /usr/local/lib/python3.10/dist-packages (from pydantic<3,>=1->langchain<0.3.0,>=0.2.15->researchchain) (0.7.0)\n",
            "Requirement already satisfied: pydantic-core==2.20.1 in /usr/local/lib/python3.10/dist-packages (from pydantic<3,>=1->langchain<0.3.0,>=0.2.15->researchchain) (2.20.1)\n",
            "Requirement already satisfied: charset-normalizer<4,>=2 in /usr/local/lib/python3.10/dist-packages (from requests<3,>=2->langchain<0.3.0,>=0.2.15->researchchain) (3.3.2)\n",
            "Requirement already satisfied: urllib3<3,>=1.21.1 in /usr/local/lib/python3.10/dist-packages (from requests<3,>=2->langchain<0.3.0,>=0.2.15->researchchain) (2.0.7)\n",
            "Requirement already satisfied: greenlet!=0.4.17 in /usr/local/lib/python3.10/dist-packages (from SQLAlchemy<3,>=1.4->langchain<0.3.0,>=0.2.15->researchchain) (3.0.3)\n",
            "Requirement already satisfied: googleapis-common-protos<2.0.dev0,>=1.56.2 in /usr/local/lib/python3.10/dist-packages (from google-api-core->google-generativeai<0.8.0,>=0.7.2->llmlinks<0.2.0,>=0.1.4->researchchain) (1.64.0)\n",
            "Requirement already satisfied: cachetools<6.0,>=2.0.0 in /usr/local/lib/python3.10/dist-packages (from google-auth>=2.15.0->google-generativeai<0.8.0,>=0.7.2->llmlinks<0.2.0,>=0.1.4->researchchain) (5.5.0)\n",
            "Requirement already satisfied: pyasn1-modules>=0.2.1 in /usr/local/lib/python3.10/dist-packages (from google-auth>=2.15.0->google-generativeai<0.8.0,>=0.7.2->llmlinks<0.2.0,>=0.1.4->researchchain) (0.4.0)\n",
            "Requirement already satisfied: rsa<5,>=3.1.4 in /usr/local/lib/python3.10/dist-packages (from google-auth>=2.15.0->google-generativeai<0.8.0,>=0.7.2->llmlinks<0.2.0,>=0.1.4->researchchain) (4.9)\n",
            "Requirement already satisfied: jsonpointer>=1.9 in /usr/local/lib/python3.10/dist-packages (from jsonpatch<2.0,>=1.33->langchain-core<0.3.0,>=0.2.35->langchain<0.3.0,>=0.2.15->researchchain) (3.0.0)\n",
            "Requirement already satisfied: huggingface-hub<1.0,>=0.16.4 in /usr/local/lib/python3.10/dist-packages (from tokenizers>=0.13.0->anthropic<0.34.0,>=0.33.0->llmlinks<0.2.0,>=0.1.4->researchchain) (0.23.5)\n",
            "Requirement already satisfied: mypy-extensions>=0.3.0 in /usr/local/lib/python3.10/dist-packages (from typing-inspect<1,>=0.4.0->dataclasses-json<0.7,>=0.5.7->langchain-community<0.3.0,>=0.2.15->researchchain) (1.0.0)\n",
            "Requirement already satisfied: httplib2<1.dev0,>=0.19.0 in /usr/local/lib/python3.10/dist-packages (from google-api-python-client->google-generativeai<0.8.0,>=0.7.2->llmlinks<0.2.0,>=0.1.4->researchchain) (0.22.0)\n",
            "Requirement already satisfied: google-auth-httplib2<1.0.0,>=0.2.0 in /usr/local/lib/python3.10/dist-packages (from google-api-python-client->google-generativeai<0.8.0,>=0.7.2->llmlinks<0.2.0,>=0.1.4->researchchain) (0.2.0)\n",
            "Requirement already satisfied: uritemplate<5,>=3.0.1 in /usr/local/lib/python3.10/dist-packages (from google-api-python-client->google-generativeai<0.8.0,>=0.7.2->llmlinks<0.2.0,>=0.1.4->researchchain) (4.1.1)\n",
            "Requirement already satisfied: grpcio<2.0dev,>=1.33.2 in /usr/local/lib/python3.10/dist-packages (from google-api-core[grpc]!=2.0.*,!=2.1.*,!=2.10.*,!=2.2.*,!=2.3.*,!=2.4.*,!=2.5.*,!=2.6.*,!=2.7.*,!=2.8.*,!=2.9.*,<3.0.0dev,>=1.34.1->google-ai-generativelanguage==0.6.6->google-generativeai<0.8.0,>=0.7.2->llmlinks<0.2.0,>=0.1.4->researchchain) (1.64.1)\n",
            "Requirement already satisfied: grpcio-status<2.0.dev0,>=1.33.2 in /usr/local/lib/python3.10/dist-packages (from google-api-core[grpc]!=2.0.*,!=2.1.*,!=2.10.*,!=2.2.*,!=2.3.*,!=2.4.*,!=2.5.*,!=2.6.*,!=2.7.*,!=2.8.*,!=2.9.*,<3.0.0dev,>=1.34.1->google-ai-generativelanguage==0.6.6->google-generativeai<0.8.0,>=0.7.2->llmlinks<0.2.0,>=0.1.4->researchchain) (1.48.2)\n",
            "Requirement already satisfied: pyparsing!=3.0.0,!=3.0.1,!=3.0.2,!=3.0.3,<4,>=2.4.2 in /usr/local/lib/python3.10/dist-packages (from httplib2<1.dev0,>=0.19.0->google-api-python-client->google-generativeai<0.8.0,>=0.7.2->llmlinks<0.2.0,>=0.1.4->researchchain) (3.1.4)\n",
            "Requirement already satisfied: filelock in /usr/local/lib/python3.10/dist-packages (from huggingface-hub<1.0,>=0.16.4->tokenizers>=0.13.0->anthropic<0.34.0,>=0.33.0->llmlinks<0.2.0,>=0.1.4->researchchain) (3.15.4)\n",
            "Requirement already satisfied: fsspec>=2023.5.0 in /usr/local/lib/python3.10/dist-packages (from huggingface-hub<1.0,>=0.16.4->tokenizers>=0.13.0->anthropic<0.34.0,>=0.33.0->llmlinks<0.2.0,>=0.1.4->researchchain) (2024.6.1)\n",
            "Requirement already satisfied: pyasn1<0.7.0,>=0.4.6 in /usr/local/lib/python3.10/dist-packages (from pyasn1-modules>=0.2.1->google-auth>=2.15.0->google-generativeai<0.8.0,>=0.7.2->llmlinks<0.2.0,>=0.1.4->researchchain) (0.6.0)\n",
            "Downloading researchchain-0.1.3-py3-none-any.whl (39 kB)\n",
            "Installing collected packages: researchchain\n",
            "  Attempting uninstall: researchchain\n",
            "    Found existing installation: researchchain 0.1.2\n",
            "    Uninstalling researchchain-0.1.2:\n",
            "      Successfully uninstalled researchchain-0.1.2\n",
            "Successfully installed researchchain-0.1.3\n"
          ]
        }
      ],
      "source": [
        "%pip install --upgrade researchchain"
      ]
    },
    {
      "cell_type": "markdown",
      "source": [
        "# LLMComponent"
      ],
      "metadata": {
        "id": "IMjdKgmNeIcL"
      }
    },
    {
      "cell_type": "code",
      "source": [
        "from researchchain.llm_component.llm_component import LLMComponent\n",
        "\n",
        "import os\n",
        "from google.colab import userdata\n",
        "os.environ[\"OPENAI_API_KEY\"] = userdata.get('OPENAI_API_KEY')\n",
        "os.environ[\"GOOGLE_API_KEY\"] = userdata.get('GOOGLE_API_KEY')\n",
        "os.environ[\"ANTHROPIC_API_KEY\"] = userdata.get('ANTHROPIC_API_KEY')\n",
        "\n",
        "llm_name = \"gpt-4o-2024-08-06\"\n",
        "#llm_name = \"gpt-4o-2024-05-13\"\n",
        "#llm_name =  \"gpt-4o-mini-2024-07-18\"\n",
        "#llm_name = \"gpt-4-turbo-2024-04-09\"\n",
        "#llm_name = \"gpt-4-0125-preview\"\n",
        "#llm_name = \"gemini-1.0-pro\"\n",
        "#llm_name = \"gemini-1.5-pro\"\n",
        "#llm_name = \"gemini-1.5-flash\"\n",
        "#llm_name = \"claude-3-5-sonnet-20240620\"\n",
        "#llm_name = \"claude-3-opus-20240229\""
      ],
      "metadata": {
        "id": "nmAOawsybKeb"
      },
      "execution_count": 2,
      "outputs": []
    },
    {
      "cell_type": "markdown",
      "source": [
        "### 1段階のプロンプトを実行する場合"
      ],
      "metadata": {
        "id": "HbJe2QOqnvvy"
      }
    },
    {
      "cell_type": "code",
      "source": [
        "json_data = {\n",
        "    \"input\": [\"source\", \"language\"],\n",
        "    \"output\": [\"output\"],\n",
        "    \"prompt\": \"\"\"\n",
        "    <source_text>\\n{source}\\n</source_text>\\n<target_language>\\n{language}\\n</target_language>\\n<rule>\\nsource_text\n",
        "    タグで与えられた文章を target_language で指定された言語に翻訳して output タグを用いて出力せよ．\\n</rule>\n",
        "    \"\"\"\n",
        "}\n",
        "\n",
        "translater = LLMComponent(llm_name=llm_name, json_data = json_data)"
      ],
      "metadata": {
        "colab": {
          "base_uri": "https://localhost:8080/"
        },
        "id": "WCdp6NoecpKX",
        "outputId": "7477f04b-8e61-4f31-ca3a-5e5353a2b49b"
      },
      "execution_count": 3,
      "outputs": [
        {
          "output_type": "stream",
          "name": "stdout",
          "text": [
            "LLMComponent initialized\n",
            "input: ['source', 'language']\n",
            "output: ['output']\n"
          ]
        }
      ]
    },
    {
      "cell_type": "code",
      "source": [
        "memory = {\n",
        "    'source': 'Hello World!!',\n",
        "    'language': 'japanese',\n",
        "    }\n",
        "\n",
        "memory = translater(memory)\n",
        "print(memory)"
      ],
      "metadata": {
        "colab": {
          "base_uri": "https://localhost:8080/"
        },
        "id": "hLlLZOvwkg8l",
        "outputId": "eee0a458-0488-4454-fb99-b54c7d83e89a"
      },
      "execution_count": 4,
      "outputs": [
        {
          "output_type": "stream",
          "name": "stdout",
          "text": [
            "{'source': 'Hello World!!', 'language': 'japanese', 'output': 'こんにちは、世界！！'}\n"
          ]
        }
      ]
    },
    {
      "cell_type": "markdown",
      "source": [
        "### 2段階のプロンプトを実行する場合"
      ],
      "metadata": {
        "id": "K8h-SWQsnjFo"
      }
    },
    {
      "cell_type": "code",
      "source": [
        "json_data = {\n",
        "    \"input\": [\n",
        "        [\"source\", \"language\"],\n",
        "        [\"output2\"]\n",
        "    ],\n",
        "    \"output\": [\n",
        "        [\"output\", \"output2\"],\n",
        "        [\"output3\"]\n",
        "    ],\n",
        "    \"prompt\": [\n",
        "        \"<source>{source}</source>\\n<language>{language}</language>\\n<rule>source_text タグで与えられた文章を target_language で指定された言語に翻訳して outputタグを用いて出力せよ．さらに，翻訳したものをドイツ語に翻訳しoutput2タグを用いて出力してください．</rule>\",\n",
        "        \"<output2>{output2}</output2>\\n<rule>output2タグで与えられた文章をフランス語に翻訳してoutput3タグを用いて出力せよ．</rule>\"\n",
        "    ]\n",
        "}\n",
        "\n",
        "translater = LLMComponent(llm_name=llm_name, json_data = json_data)"
      ],
      "metadata": {
        "colab": {
          "base_uri": "https://localhost:8080/"
        },
        "id": "xBpVHqejkZ4m",
        "outputId": "735dfb09-f6b9-4018-8c25-205002a0873a"
      },
      "execution_count": 49,
      "outputs": [
        {
          "output_type": "stream",
          "name": "stdout",
          "text": [
            "LLMComponent initialized\n",
            "input: [['source', 'language'], ['output2']]\n",
            "output: [['output', 'output2'], ['output3']]\n"
          ]
        }
      ]
    },
    {
      "cell_type": "code",
      "source": [
        "memory = {\n",
        "    'source': 'Hello World!!',\n",
        "    'language': 'japanese',\n",
        "    'output': None\n",
        "    }\n",
        "\n",
        "memory = translater(memory)\n",
        "print(memory)"
      ],
      "metadata": {
        "colab": {
          "base_uri": "https://localhost:8080/"
        },
        "id": "Lp-xUC55k9wK",
        "outputId": "5e060926-703f-4587-a2c9-c003956689b7"
      },
      "execution_count": 42,
      "outputs": [
        {
          "output_type": "stream",
          "name": "stdout",
          "text": [
            "{'output': ['こんにちは世界!!'], 'output2': ['Hallo Welt!!']}\n",
            "{'output3': ['Bonjour le monde!!']}\n",
            "{'source': 'Hello World!!', 'language': 'japanese', 'output': 'こんにちは世界!!', 'output2': 'Hallo Welt!!', 'output3': 'Bonjour le monde!!'}\n"
          ]
        }
      ]
    },
    {
      "cell_type": "markdown",
      "source": [
        "# Retriever"
      ],
      "metadata": {
        "id": "V-varhAseK2F"
      }
    },
    {
      "cell_type": "markdown",
      "source": [
        "### SemanticScholarRetriever"
      ],
      "metadata": {
        "id": "5HFakiK6hwA4"
      }
    },
    {
      "cell_type": "code",
      "source": [
        "from researchchain.retriever_component.semantic_scholar import SemanticScholarRetriever"
      ],
      "metadata": {
        "id": "HCTVrOtWfBlg"
      },
      "execution_count": 11,
      "outputs": []
    },
    {
      "cell_type": "code",
      "source": [
        "save_dir = \"/content/\"\n",
        "retriever = SemanticScholarRetriever(save_dir=save_dir)"
      ],
      "metadata": {
        "colab": {
          "base_uri": "https://localhost:8080/"
        },
        "id": "8J7RJwHIgfrk",
        "outputId": "07b737b1-ee2d-41aa-d494-67f7994d1fc9"
      },
      "execution_count": 14,
      "outputs": [
        {
          "output_type": "stream",
          "name": "stdout",
          "text": [
            "SemanticScholarRetriever initialized\n",
            "input: ['keywords']\n",
            "output: ['collection_of_papers_1']\n"
          ]
        }
      ]
    },
    {
      "cell_type": "code",
      "source": [
        "memory = {\n",
        "    'keywords' : \"LLM\",\n",
        "    'collection_of_papers_1' : None\n",
        "}"
      ],
      "metadata": {
        "id": "dd_Ykm9wgppU"
      },
      "execution_count": 24,
      "outputs": []
    },
    {
      "cell_type": "code",
      "source": [
        "memory = retriever(memory)\n",
        "print(memory)"
      ],
      "metadata": {
        "colab": {
          "base_uri": "https://localhost:8080/",
          "height": 665
        },
        "id": "dLKa1YskgzeB",
        "outputId": "79639feb-3d6f-405f-c837-21e93ff06baf"
      },
      "execution_count": 25,
      "outputs": [
        {
          "output_type": "stream",
          "name": "stdout",
          "text": [
            "Intestinal microbiota metabolism of L-carnitine, a nutrient in red meat, promotes atherosclerosis\n",
            "e820491f0bcaadbbc7daecfa505359f3106b8a58\n",
            "Allergic Rhinitis and its Impact on Asthma (ARIA) 2008 *\n",
            "6d260c9eaa2849f209d905edf4e049ad479751c8\n",
            "Tables of bond lengths determined by X-ray and neutron diffraction. Part 1. Bond lengths in organic compounds\n",
            "06a811b8f3c43777422ce40c5342d407398a41d2\n",
            "American Thoracic Society Documents An Official American Thoracic Society / European Respiratory Society Statement : Key Concepts and Advances in Pulmonary Rehabilitation Executive Summary\n",
            "a43d6c1e980f3ba80c1cddbb56ae0a4e6882f19d\n",
            "A Theory for Multiresolution Signal Decomposition: The Wavelet Representation\n",
            "b78626ce1a562c05b1c06f9c805e839f9760b9ab\n",
            "SEVEN-YEAR WILKINSON MICROWAVE ANISOTROPY PROBE (WMAP) OBSERVATIONS: POWER SPECTRA AND WMAP-DERIVED PARAMETERS\n",
            "d5318bf9f74ae1e5ea794ca25f29f27bd5435e31\n",
            "Planning Health Promotion Programs: An Intervention Mapping Approach\n",
            "40a7b0693b4be8d4b9053957903fceb6406b6dba\n",
            "Microalgae for oil: Strain selection, induction of lipid synthesis and outdoor mass cultivation in a low‐cost photobioreactor\n",
            "52cae2b171065726fe1d1249ade1a5847d63f2ba\n",
            "measurement and evaluation in counseling and Development\n",
            "eb4af16526988aed785c3c639e914708b049f699\n",
            "Regional Frequency Analysis: An Approach Based on L-Moments\n",
            "dafa032edadcea535f84f60334af40a3ef1cef6c\n",
            "Downloaded 1001.4635.pdf to /content/\n"
          ]
        },
        {
          "output_type": "error",
          "ename": "TypeError",
          "evalue": "'NoneType' object does not support item assignment",
          "traceback": [
            "\u001b[0;31m---------------------------------------------------------------------------\u001b[0m",
            "\u001b[0;31mTypeError\u001b[0m                                 Traceback (most recent call last)",
            "\u001b[0;32m<ipython-input-25-8131625d1181>\u001b[0m in \u001b[0;36m<cell line: 1>\u001b[0;34m()\u001b[0m\n\u001b[0;32m----> 1\u001b[0;31m \u001b[0mmemory\u001b[0m \u001b[0;34m=\u001b[0m \u001b[0mretriever\u001b[0m\u001b[0;34m(\u001b[0m\u001b[0mmemory\u001b[0m\u001b[0;34m)\u001b[0m\u001b[0;34m\u001b[0m\u001b[0;34m\u001b[0m\u001b[0m\n\u001b[0m\u001b[1;32m      2\u001b[0m \u001b[0mprint\u001b[0m\u001b[0;34m(\u001b[0m\u001b[0mmemory\u001b[0m\u001b[0;34m)\u001b[0m\u001b[0;34m\u001b[0m\u001b[0;34m\u001b[0m\u001b[0m\n",
            "\u001b[0;32m/usr/local/lib/python3.10/dist-packages/researchchain/retriever_component/semantic_scholar.py\u001b[0m in \u001b[0;36m__call__\u001b[0;34m(self, memory)\u001b[0m\n\u001b[1;32m     89\u001b[0m                 \u001b[0mpaper_content\u001b[0m \u001b[0;34m=\u001b[0m \u001b[0mself\u001b[0m\u001b[0;34m.\u001b[0m\u001b[0mconvert_pdf_to_text\u001b[0m\u001b[0;34m(\u001b[0m\u001b[0mpdf_path\u001b[0m\u001b[0;34m)\u001b[0m\u001b[0;34m\u001b[0m\u001b[0;34m\u001b[0m\u001b[0m\n\u001b[1;32m     90\u001b[0m                 \u001b[0mpaper_key\u001b[0m \u001b[0;34m=\u001b[0m \u001b[0;34mf\"paper_1_{idx+1}\"\u001b[0m\u001b[0;34m\u001b[0m\u001b[0;34m\u001b[0m\u001b[0m\n\u001b[0;32m---> 91\u001b[0;31m                 \u001b[0mmemory\u001b[0m\u001b[0;34m[\u001b[0m\u001b[0;34m\"collection_of_papers_1\"\u001b[0m\u001b[0;34m]\u001b[0m\u001b[0;34m[\u001b[0m\u001b[0mpaper_key\u001b[0m\u001b[0;34m]\u001b[0m \u001b[0;34m=\u001b[0m \u001b[0mpaper_content\u001b[0m\u001b[0;34m\u001b[0m\u001b[0;34m\u001b[0m\u001b[0m\n\u001b[0m\u001b[1;32m     92\u001b[0m \u001b[0;34m\u001b[0m\u001b[0m\n\u001b[1;32m     93\u001b[0m         \u001b[0;32mreturn\u001b[0m \u001b[0mmemory\u001b[0m\u001b[0;34m\u001b[0m\u001b[0;34m\u001b[0m\u001b[0m\n",
            "\u001b[0;31mTypeError\u001b[0m: 'NoneType' object does not support item assignment"
          ]
        }
      ]
    },
    {
      "cell_type": "markdown",
      "source": [
        "### GithubRetriever"
      ],
      "metadata": {
        "id": "TaciTMp6hzEZ"
      }
    },
    {
      "cell_type": "code",
      "source": [
        "from researchchain.retriever_component.github import GithubRetriever"
      ],
      "metadata": {
        "id": "QK6FA96heOYz"
      },
      "execution_count": 12,
      "outputs": []
    },
    {
      "cell_type": "code",
      "source": [
        "save_dir = \"/content/\"\n",
        "githubretriever = GithubRetriever(save_dir=save_dir)"
      ],
      "metadata": {
        "colab": {
          "base_uri": "https://localhost:8080/"
        },
        "id": "0OuUi77Pga-O",
        "outputId": "41dadcc8-53ec-481c-922e-4f0c9445989d"
      },
      "execution_count": 18,
      "outputs": [
        {
          "output_type": "stream",
          "name": "stdout",
          "text": [
            "GithubRetriever initialized\n",
            "input: ['github_url']\n",
            "output: ['folder_structure', 'github_file']\n"
          ]
        }
      ]
    },
    {
      "cell_type": "code",
      "source": [
        "memory = {\n",
        "    'github_url' : \"https://github.com/fuyu-quant/IBLM\"\n",
        "}"
      ],
      "metadata": {
        "id": "l_kVkbWgg9J8"
      },
      "execution_count": 19,
      "outputs": []
    },
    {
      "cell_type": "code",
      "source": [
        "memory = githubretriever(memory)\n",
        "print(memory)"
      ],
      "metadata": {
        "id": "oMZlOqFKiBN8"
      },
      "execution_count": 20,
      "outputs": []
    }
  ]
}